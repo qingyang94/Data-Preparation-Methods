{
 "cells": [
  {
   "cell_type": "markdown",
   "metadata": {},
   "source": [
    "# 3.3.1 Data Cleaning"
   ]
  },
  {
   "cell_type": "markdown",
   "metadata": {},
   "source": [
    "## 3.3.1.1\tHandling Missing Values"
   ]
  },
  {
   "cell_type": "code",
   "execution_count": 1,
   "metadata": {},
   "outputs": [],
   "source": [
    "import pandas as pd\n",
    "# from pandas.plotting import scatter_matrix\n",
    "import numpy as np\n",
    "import seaborn as sns\n",
    "import matplotlib.pyplot as plt\n",
    "%matplotlib inline"
   ]
  },
  {
   "cell_type": "code",
   "execution_count": 5,
   "metadata": {},
   "outputs": [],
   "source": [
    "# read the data\n",
    "train_data = pd.read_csv('data/train.csv')\n",
    "train_data.drop(train_data.columns[14:6001], axis=1, inplace=True)"
   ]
  },
  {
   "cell_type": "code",
   "execution_count": 6,
   "metadata": {},
   "outputs": [
    {
     "data": {
      "text/html": [
       "<div>\n",
       "<style scoped>\n",
       "    .dataframe tbody tr th:only-of-type {\n",
       "        vertical-align: middle;\n",
       "    }\n",
       "\n",
       "    .dataframe tbody tr th {\n",
       "        vertical-align: top;\n",
       "    }\n",
       "\n",
       "    .dataframe thead th {\n",
       "        text-align: right;\n",
       "    }\n",
       "</style>\n",
       "<table border=\"1\" class=\"dataframe\">\n",
       "  <thead>\n",
       "    <tr style=\"text-align: right;\">\n",
       "      <th></th>\n",
       "      <th>id</th>\n",
       "      <th>1</th>\n",
       "      <th>2</th>\n",
       "      <th>3</th>\n",
       "      <th>4</th>\n",
       "      <th>5</th>\n",
       "      <th>6</th>\n",
       "      <th>7</th>\n",
       "      <th>8</th>\n",
       "      <th>9</th>\n",
       "      <th>10</th>\n",
       "      <th>11</th>\n",
       "      <th>12</th>\n",
       "      <th>13</th>\n",
       "      <th>label</th>\n",
       "    </tr>\n",
       "  </thead>\n",
       "  <tbody>\n",
       "    <tr>\n",
       "      <th>0</th>\n",
       "      <td>1</td>\n",
       "      <td>0.563650</td>\n",
       "      <td>1.069229</td>\n",
       "      <td>-0.837759</td>\n",
       "      <td>-1.122021</td>\n",
       "      <td>0.433296</td>\n",
       "      <td>0.770755</td>\n",
       "      <td>-0.477153</td>\n",
       "      <td>-0.588421</td>\n",
       "      <td>0.455224</td>\n",
       "      <td>0.555122</td>\n",
       "      <td>-0.215227</td>\n",
       "      <td>-0.197765</td>\n",
       "      <td>0.596543</td>\n",
       "      <td>7</td>\n",
       "    </tr>\n",
       "    <tr>\n",
       "      <th>1</th>\n",
       "      <td>2</td>\n",
       "      <td>0.061333</td>\n",
       "      <td>0.058830</td>\n",
       "      <td>0.056952</td>\n",
       "      <td>NaN</td>\n",
       "      <td>0.073433</td>\n",
       "      <td>0.072390</td>\n",
       "      <td>NaN</td>\n",
       "      <td>-0.007302</td>\n",
       "      <td>-0.026286</td>\n",
       "      <td>-0.006050</td>\n",
       "      <td>0.028789</td>\n",
       "      <td>0.026286</td>\n",
       "      <td>-0.003546</td>\n",
       "      <td>0</td>\n",
       "    </tr>\n",
       "    <tr>\n",
       "      <th>2</th>\n",
       "      <td>3</td>\n",
       "      <td>NaN</td>\n",
       "      <td>0.010964</td>\n",
       "      <td>-0.164872</td>\n",
       "      <td>-0.167714</td>\n",
       "      <td>-0.125075</td>\n",
       "      <td>-0.104771</td>\n",
       "      <td>-0.016650</td>\n",
       "      <td>0.151471</td>\n",
       "      <td>0.137258</td>\n",
       "      <td>0.045076</td>\n",
       "      <td>NaN</td>\n",
       "      <td>0.175836</td>\n",
       "      <td>0.092588</td>\n",
       "      <td>9</td>\n",
       "    </tr>\n",
       "    <tr>\n",
       "      <th>3</th>\n",
       "      <td>4</td>\n",
       "      <td>-0.046700</td>\n",
       "      <td>0.060913</td>\n",
       "      <td>0.009340</td>\n",
       "      <td>-0.093400</td>\n",
       "      <td>-0.067817</td>\n",
       "      <td>0.022335</td>\n",
       "      <td>NaN</td>\n",
       "      <td>-0.076751</td>\n",
       "      <td>-0.032893</td>\n",
       "      <td>0.023553</td>\n",
       "      <td>-0.017056</td>\n",
       "      <td>-0.024365</td>\n",
       "      <td>-0.005279</td>\n",
       "      <td>9</td>\n",
       "    </tr>\n",
       "    <tr>\n",
       "      <th>4</th>\n",
       "      <td>5</td>\n",
       "      <td>0.162922</td>\n",
       "      <td>-0.377662</td>\n",
       "      <td>0.014457</td>\n",
       "      <td>0.565437</td>\n",
       "      <td>-0.203369</td>\n",
       "      <td>-0.511508</td>\n",
       "      <td>0.410961</td>\n",
       "      <td>NaN</td>\n",
       "      <td>NaN</td>\n",
       "      <td>0.013157</td>\n",
       "      <td>0.328606</td>\n",
       "      <td>-0.224973</td>\n",
       "      <td>-0.227734</td>\n",
       "      <td>7</td>\n",
       "    </tr>\n",
       "  </tbody>\n",
       "</table>\n",
       "</div>"
      ],
      "text/plain": [
       "   id         1         2         3         4         5         6         7  \\\n",
       "0   1  0.563650  1.069229 -0.837759 -1.122021  0.433296  0.770755 -0.477153   \n",
       "1   2  0.061333  0.058830  0.056952       NaN  0.073433  0.072390       NaN   \n",
       "2   3       NaN  0.010964 -0.164872 -0.167714 -0.125075 -0.104771 -0.016650   \n",
       "3   4 -0.046700  0.060913  0.009340 -0.093400 -0.067817  0.022335       NaN   \n",
       "4   5  0.162922 -0.377662  0.014457  0.565437 -0.203369 -0.511508  0.410961   \n",
       "\n",
       "          8         9        10        11        12        13  label  \n",
       "0 -0.588421  0.455224  0.555122 -0.215227 -0.197765  0.596543      7  \n",
       "1 -0.007302 -0.026286 -0.006050  0.028789  0.026286 -0.003546      0  \n",
       "2  0.151471  0.137258  0.045076       NaN  0.175836  0.092588      9  \n",
       "3 -0.076751 -0.032893  0.023553 -0.017056 -0.024365 -0.005279      9  \n",
       "4       NaN       NaN  0.013157  0.328606 -0.224973 -0.227734      7  "
      ]
     },
     "execution_count": 6,
     "metadata": {},
     "output_type": "execute_result"
    }
   ],
   "source": [
    "train_data.head()"
   ]
  },
  {
   "cell_type": "code",
   "execution_count": 4,
   "metadata": {},
   "outputs": [
    {
     "name": "stdout",
     "output_type": "stream",
     "text": [
      "(792, 15)\n",
      "                1           2           3           4           5           6  \\\n",
      "count  744.000000  792.000000  792.000000  738.000000  792.000000  792.000000   \n",
      "mean     0.015749    0.012040    0.017170    0.025472    0.008569    0.001804   \n",
      "std      0.342030    0.355835    0.351182    0.351379    0.337050    0.341250   \n",
      "min     -1.988206   -2.219676   -2.544546   -2.423126   -1.911049   -2.724443   \n",
      "25%     -0.078444   -0.080855   -0.065244   -0.067956   -0.085319   -0.083498   \n",
      "50%      0.008749    0.009590    0.012995    0.018558    0.011127    0.010396   \n",
      "75%      0.090436    0.091066    0.103003    0.110253    0.094822    0.091371   \n",
      "max      2.635510    2.268407    2.478354    2.847488    2.280589    2.712261   \n",
      "\n",
      "                7           8           9          10          11          12  \\\n",
      "count  728.000000  791.000000  502.000000  792.000000  734.000000  792.000000   \n",
      "mean     0.002242    0.009581    0.000458    0.002271    0.006070    0.009901   \n",
      "std      0.355156    0.326264    0.354043    0.341118    0.329143    0.363938   \n",
      "min     -2.236326   -2.410537   -2.120185   -2.298863   -2.143738   -2.766270   \n",
      "25%     -0.071440   -0.081796   -0.082194   -0.079207   -0.076608   -0.074816   \n",
      "50%      0.013231    0.009584    0.007097    0.008934    0.010843    0.012449   \n",
      "75%      0.087051    0.090956    0.094688    0.098939    0.100905    0.099960   \n",
      "max      2.291554    2.404446    2.411350    2.950228    2.526272    3.099262   \n",
      "\n",
      "               13          14       label  \n",
      "count  792.000000  766.000000  792.000000  \n",
      "mean     0.008001    0.013371    4.598485  \n",
      "std      0.331791    0.422947    3.362679  \n",
      "min     -2.321604   -3.295809    0.000000  \n",
      "25%     -0.075756   -0.074189    1.000000  \n",
      "50%      0.006862    0.006213    5.000000  \n",
      "75%      0.096164    0.090244    7.000000  \n",
      "max      2.007292    3.613369    9.000000  \n"
     ]
    }
   ],
   "source": [
    "# shape and data types of the data\n",
    "print(train_data.shape)\n",
    "print(train_data.describe())"
   ]
  },
  {
   "cell_type": "markdown",
   "metadata": {},
   "source": [
    "### Finding Missing Values"
   ]
  },
  {
   "cell_type": "markdown",
   "metadata": {},
   "source": [
    "#### Technique 1: Missing Data Heatmap"
   ]
  },
  {
   "cell_type": "code",
   "execution_count": 7,
   "metadata": {},
   "outputs": [
    {
     "data": {
      "text/plain": [
       "<matplotlib.axes._subplots.AxesSubplot at 0x7fadbaa12970>"
      ]
     },
     "execution_count": 7,
     "metadata": {},
     "output_type": "execute_result"
    },
    {
     "data": {
      "image/png": "[encoded data removed]",
      "text/plain": [
       "<Figure size 432x288 with 2 Axes>"
      ]
     },
     "metadata": {
      "needs_background": "light"
     },
     "output_type": "display_data"
    }
   ],
   "source": [
    "cols = train_data.columns[:] # all columns\n",
    "colours = ['#000099', '#ffff00'] # specify the colours - yellow is missing. blue is not missing.\n",
    "sns.heatmap(train_data[cols].isnull(), cmap=sns.color_palette(colours))\n"
   ]
  },
  {
   "cell_type": "markdown",
   "metadata": {},
   "source": [
    "#### Technique 2: Missing Data Percentage List"
   ]
  },
  {
   "cell_type": "code",
   "execution_count": 8,
   "metadata": {},
   "outputs": [
    {
     "name": "stdout",
     "output_type": "stream",
     "text": [
      "id - 0.0%\n",
      "1 - 6.0%\n",
      "2 - 0.0%\n",
      "3 - 0.0%\n",
      "4 - 7.0%\n",
      "5 - 0.0%\n",
      "6 - 0.0%\n",
      "7 - 8.0%\n",
      "8 - 0.0%\n",
      "9 - 37.0%\n",
      "10 - 0.0%\n",
      "11 - 7.0%\n",
      "12 - 0.0%\n",
      "13 - 0.0%\n",
      "label - 0.0%\n"
     ]
    }
   ],
   "source": [
    "# if it's a larger dataset and the visualization takes too long can do this.\n",
    "# % of missing.\n",
    "for col in train_data.columns:\n",
    "    pct_missing = np.mean(train_data[col].isnull())\n",
    "    print('{} - {}%'.format(col, round(pct_missing*100)))"
   ]
  },
  {
   "cell_type": "markdown",
   "metadata": {},
   "source": [
    "#### Technique 3: Missing Data Histogram"
   ]
  },
  {
   "cell_type": "code",
   "execution_count": 9,
   "metadata": {
    "scrolled": true
   },
   "outputs": [
    {
     "name": "stdout",
     "output_type": "stream",
     "text": [
      "created missing indicator for: 1\n",
      "created missing indicator for: 4\n",
      "created missing indicator for: 7\n",
      "created missing indicator for: 8\n",
      "created missing indicator for: 9\n",
      "created missing indicator for: 11\n"
     ]
    },
    {
     "data": {
      "text/plain": [
       "<matplotlib.axes._subplots.AxesSubplot at 0x7fadbadb0100>"
      ]
     },
     "execution_count": 9,
     "metadata": {},
     "output_type": "execute_result"
    },
    {
     "data": {
      "image/png": "[encoded data removed]",
      "text/plain": [
       "<Figure size 432x288 with 1 Axes>"
      ]
     },
     "metadata": {
      "needs_background": "light"
     },
     "output_type": "display_data"
    }
   ],
   "source": [
    "# first create missing indicator for features with missing data\n",
    "for col in train_data.columns:\n",
    "    missing = train_data[col].isnull()\n",
    "    num_missing = np.sum(missing)\n",
    "    \n",
    "    if num_missing > 0:  \n",
    "        print('created missing indicator for: {}'.format(col))\n",
    "        train_data['{}_ismissing'.format(col)] = missing\n",
    "\n",
    "\n",
    "# then based on the indicator, plot the histogram of missing values\n",
    "ismissing_cols = [col for col in train_data.columns if 'ismissing' in col]\n",
    "train_data['num_missing'] = train_data[ismissing_cols].sum(axis=1)\n",
    "\n",
    "train_data['num_missing'].value_counts().reset_index().sort_values(by='index').plot.bar(x='index', y='num_missing')\n"
   ]
  },
  {
   "cell_type": "markdown",
   "metadata": {},
   "source": [
    "### Solutions to Missing Values"
   ]
  },
  {
   "cell_type": "markdown",
   "metadata": {},
   "source": [
    "#### Statistical Imputation"
   ]
  },
  {
   "cell_type": "code",
   "execution_count": 29,
   "metadata": {},
   "outputs": [
    {
     "name": "stdout",
     "output_type": "stream",
     "text": [
      "Missing: 654\n",
      "Missing: 0\n"
     ]
    }
   ],
   "source": [
    "\n",
    "# statistical imputation transform for the milling dataset \n",
    "from numpy import isnan \n",
    "from sklearn.impute import SimpleImputer\n",
    "\n",
    "# read the data\n",
    "train_data = pd.read_csv('data/train.csv')\n",
    "train_data.drop(train_data.columns[600:6000], axis=1, inplace=True)\n",
    "\n",
    "# split into input and output elements\n",
    "data = train_data.values\n",
    "ix = [i for i in range(data.shape[1]) if i != 600] \n",
    "X, y = data[:, ix], data[:, 600] \n",
    "# summarize total missing \n",
    "print('Missing: %d' % sum(isnan(X).flatten()))\n",
    "# define imputer \n",
    "imputer = SimpleImputer(strategy='mean')\n",
    "# fit on the dataset \n",
    "imputer.fit(X)\n",
    "# transform the dataset \n",
    "Xtrans = imputer.transform(X)\n",
    "# summarize total missing \n",
    "print('Missing: %d' % sum(np.isnan(Xtrans).flatten()))"
   ]
  },
  {
   "cell_type": "code",
   "execution_count": 30,
   "metadata": {},
   "outputs": [],
   "source": [
    "## Comparing Different Imputed Statistics\n",
    "\n",
    "from numpy import mean\n",
    "from numpy import std\n",
    "from pandas import read_csv \n",
    "from sklearn.ensemble import RandomForestClassifier \n",
    "from sklearn.impute import SimpleImputer \n",
    "from sklearn.model_selection import cross_val_score \n",
    "from sklearn.model_selection import RepeatedStratifiedKFold \n",
    "from sklearn.pipeline import Pipeline \n",
    "from matplotlib import pyplot\n",
    "from scipy import stats"
   ]
  },
  {
   "cell_type": "code",
   "execution_count": 31,
   "metadata": {},
   "outputs": [],
   "source": [
    "# read data\n",
    "train_data = pd.read_csv('data/train.csv')\n",
    "train_data.drop(train_data.columns[600:6000], axis=1, inplace=True)\n",
    "y_train = pd.DataFrame()\n",
    "y_train['label'] = train_data['label']\n",
    "train_data.drop(columns='label', inplace=True)"
   ]
  },
  {
   "cell_type": "code",
   "execution_count": 32,
   "metadata": {},
   "outputs": [],
   "source": [
    "## compute time series data feature\n",
    "def get_t(df):\n",
    "    mean_list = []\n",
    "    std_list = []\n",
    "    var_list = []\n",
    "    min_list = []\n",
    "    max_list = []\n",
    "    median_list = []\n",
    "    skew_list = []\n",
    "    kuri_list = []\n",
    "    x = pd.DataFrame()\n",
    "    for i in range(len(df)):\n",
    "        mean_list.append(np.mean(train_data.iloc[i][1:].values))\n",
    "        std_list.append(np.std(train_data.iloc[i][1:].values))\n",
    "        var_list.append(np.var(train_data.iloc[i][1:].values))\n",
    "        min_list.append(np.min(train_data.iloc[i][1:].values))\n",
    "        max_list.append(np.max(train_data.iloc[i][1:].values))\n",
    "        median_list.append(np.median(train_data.iloc[i][1:].values))\n",
    "        skew_list.append(stats.skew(train_data.iloc[i][1:].values))\n",
    "        kuri_list.append(stats.kurtosis(train_data.iloc[i][1:].values))\n",
    "    x['mean'] = mean_list\n",
    "    x['std'] = std_list\n",
    "    x['var'] = var_list\n",
    "    x['min'] = min_list\n",
    "    x['max'] = max_list\n",
    "    x['median'] = median_list\n",
    "    x['skew'] = skew_list\n",
    "    x['kuri'] = kuri_list\n",
    "    return x"
   ]
  },
  {
   "cell_type": "code",
   "execution_count": 39,
   "metadata": {},
   "outputs": [
    {
     "name": "stdout",
     "output_type": "stream",
     "text": [
      ">mean 0.861 (0.039)\n",
      ">median 0.856 (0.043)\n",
      ">most_frequent 0.853 (0.037)\n",
      ">constant 0.856 (0.039)\n"
     ]
    },
    {
     "data": {
      "image/png": "[encoded data removed]",
      "text/plain": [
       "<Figure size 432x288 with 1 Axes>"
      ]
     },
     "metadata": {
      "needs_background": "light"
     },
     "output_type": "display_data"
    }
   ],
   "source": [
    "# evaluate each strategy on the dataset \n",
    "results = list() \n",
    "strategies = ['mean', 'median', 'most_frequent', 'constant']\n",
    "for s in strategies:\n",
    "    # define imputer \n",
    "    imputer = SimpleImputer(strategy=s)\n",
    "    # fit on the dataset \n",
    "    imputer.fit(train_data)\n",
    "    # transform the dataset \n",
    "    trans_data = imputer.transform(train_data)\n",
    "    train_data = pd.DataFrame(Xtrans)\n",
    "    x_train = get_t(train_data)\n",
    "      \n",
    "    # evaluate the model\n",
    "    clf = RandomForestClassifier(n_estimators=50)\n",
    "    cv = RepeatedStratifiedKFold(n_splits=10, n_repeats=3, random_state=1) \n",
    "    scores = cross_val_score(clf, x_train, y_train, scoring='accuracy', cv=cv, n_jobs=-1)\n",
    "    # store results \n",
    "    results.append(scores)\n",
    "    print('>%s %.3f (%.3f)' % (s, mean(scores), std(scores)))\n",
    "\n",
    "# plot model performance for comparison\n",
    "pyplot.boxplot(results, labels=strategies, showmeans=True) \n",
    "pyplot.show()"
   ]
  },
  {
   "cell_type": "markdown",
   "metadata": {},
   "source": [
    "#### Iterative Imputation"
   ]
  },
  {
   "cell_type": "code",
   "execution_count": 28,
   "metadata": {},
   "outputs": [
    {
     "name": "stdout",
     "output_type": "stream",
     "text": [
      "Missing: 654\n",
      "Missing: 0\n"
     ]
    }
   ],
   "source": [
    "from numpy import isnan \n",
    "from pandas import read_csv \n",
    "from sklearn.experimental import enable_iterative_imputer \n",
    "from sklearn.impute import IterativeImputer\n",
    "\n",
    "# read the data\n",
    "train_data = pd.read_csv('data/train.csv')\n",
    "train_data.drop(train_data.columns[600:6000], axis=1, inplace=True)\n",
    "\n",
    "# split into input and output elements\n",
    "data = train_data.values\n",
    "ix = [i for i in range(data.shape[1]) if i != 600] \n",
    "X, y = data[:, ix], data[:, 600] \n",
    "# summarize total missing \n",
    "print('Missing: %d' % sum(isnan(X).flatten()))\n",
    "# define imputer \n",
    "imputer = IterativeImputer() \n",
    "# fit on the dataset \n",
    "imputer.fit(X)\n",
    "# transform the dataset \n",
    "Xtrans = imputer.transform(X)\n",
    "# summarize total missing \n",
    "print('Missing: %d' % sum(np.isnan(Xtrans).flatten()))\n"
   ]
  },
  {
   "cell_type": "code",
   "execution_count": 6,
   "metadata": {},
   "outputs": [],
   "source": [
    "import pandas as pd\n",
    "import numpy as np\n",
    "from numpy import mean \n",
    "from numpy import std \n",
    "from pandas import read_csv \n",
    "from sklearn.ensemble import RandomForestClassifier \n",
    "from sklearn.experimental import enable_iterative_imputer \n",
    "from sklearn.impute import IterativeImputer \n",
    "from sklearn.model_selection import cross_val_score \n",
    "from sklearn.model_selection import RepeatedStratifiedKFold \n",
    "from sklearn.pipeline import Pipeline \n",
    "from matplotlib import pyplot\n",
    "from scipy import stats"
   ]
  },
  {
   "cell_type": "code",
   "execution_count": 4,
   "metadata": {},
   "outputs": [],
   "source": [
    "## read the data\n",
    "train_data = pd.read_csv('data/train.csv')\n",
    "train_data.drop(train_data.columns[600:6000], axis=1, inplace=True)\n",
    "y_train = pd.DataFrame()\n",
    "y_train['label'] = train_data['label']\n",
    "train_data.drop(columns='label', inplace=True)"
   ]
  },
  {
   "cell_type": "code",
   "execution_count": 8,
   "metadata": {},
   "outputs": [],
   "source": [
    "# compute time series data feature\n",
    "def get_t(df):\n",
    "    mean_list = []\n",
    "    std_list = []\n",
    "    var_list = []\n",
    "    min_list = []\n",
    "    max_list = []\n",
    "    median_list = []\n",
    "    skew_list = []\n",
    "    kuri_list = []\n",
    "    x = pd.DataFrame()\n",
    "    for i in range(len(df)):\n",
    "        mean_list.append(np.mean(train_data.iloc[i][1:].values))\n",
    "        std_list.append(np.std(train_data.iloc[i][1:].values))\n",
    "        var_list.append(np.var(train_data.iloc[i][1:].values))\n",
    "        min_list.append(np.min(train_data.iloc[i][1:].values))\n",
    "        max_list.append(np.max(train_data.iloc[i][1:].values))\n",
    "        median_list.append(np.median(train_data.iloc[i][1:].values))\n",
    "        skew_list.append(stats.skew(train_data.iloc[i][1:].values))\n",
    "        kuri_list.append(stats.kurtosis(train_data.iloc[i][1:].values))\n",
    "    x['mean'] = mean_list\n",
    "    x['std'] = std_list\n",
    "    x['var'] = var_list\n",
    "    x['min'] = min_list\n",
    "    x['max'] = max_list\n",
    "    x['median'] = median_list\n",
    "    x['skew'] = skew_list\n",
    "    x['kuri'] = kuri_list\n",
    "    return x"
   ]
  },
  {
   "cell_type": "code",
   "execution_count": 9,
   "metadata": {},
   "outputs": [
    {
     "name": "stdout",
     "output_type": "stream",
     "text": [
      ">ascending 0.857 (0.044)\n",
      ">descending 0.856 (0.040)\n",
      ">roman 0.850 (0.038)\n",
      ">arabic 0.852 (0.039)\n",
      ">random 0.857 (0.041)\n"
     ]
    },
    {
     "data": {
      "image/png": "[encoded data removed]",
      "text/plain": [
       "<Figure size 432x288 with 1 Axes>"
      ]
     },
     "metadata": {
      "needs_background": "light"
     },
     "output_type": "display_data"
    }
   ],
   "source": [
    "# evaluate each strategy on the dataset \n",
    "results = list() \n",
    "strategies = ['ascending', 'descending', 'roman', 'arabic', 'random'] \n",
    "for s in strategies:\n",
    "    # define imputer \n",
    "    imputer = IterativeImputer(imputation_order=s)\n",
    "    # fit on the dataset \n",
    "    imputer.fit(train_data)\n",
    "    # transform the dataset \n",
    "    Xtrans = imputer.transform(train_data)\n",
    "    train_data = pd.DataFrame(Xtrans)\n",
    "    x_train = get_t(train_data)\n",
    "    \n",
    "    # evaluate the model\n",
    "    clf = RandomForestClassifier(n_estimators=50)\n",
    "    cv = RepeatedStratifiedKFold(n_splits=10, n_repeats=3, random_state=1) \n",
    "    scores = cross_val_score(clf, x_train, y_train, scoring='accuracy', cv=cv, n_jobs=-1)\n",
    "    # store results \n",
    "    results.append(scores)\n",
    "    print('>%s %.3f (%.3f)' % (s, mean(scores), std(scores)))\n",
    "\n",
    "# plot model performance for comparison\n",
    "pyplot.boxplot(results, labels=strategies, showmeans=True) \n",
    "pyplot.show()"
   ]
  },
  {
   "cell_type": "code",
   "execution_count": 169,
   "metadata": {},
   "outputs": [],
   "source": [
    "# compare iterative imputation number of iterations for the bearing dataset \n",
    "from numpy import mean \n",
    "from numpy import std \n",
    "from pandas import read_csv \n",
    "from sklearn.ensemble import RandomForestClassifier \n",
    "from sklearn.experimental import enable_iterative_imputer \n",
    "from sklearn.impute import IterativeImputer \n",
    "from sklearn.model_selection import cross_val_score \n",
    "from sklearn.model_selection import RepeatedStratifiedKFold \n",
    "from sklearn.pipeline import Pipeline \n",
    "from matplotlib import pyplot\n",
    "from scipy import stats"
   ]
  },
  {
   "cell_type": "code",
   "execution_count": 11,
   "metadata": {},
   "outputs": [],
   "source": [
    "## read the data\n",
    "train_data = pd.read_csv('data/train.csv')\n",
    "train_data.drop(train_data.columns[600:6000], axis=1, inplace=True)\n",
    "y_train = pd.DataFrame()\n",
    "y_train['label'] = train_data['label']\n",
    "train_data.drop(columns='label', inplace=True)"
   ]
  },
  {
   "cell_type": "code",
   "execution_count": 12,
   "metadata": {},
   "outputs": [],
   "source": [
    "# compute time series data feature\n",
    "def get_t(df):\n",
    "    mean_list = []\n",
    "    std_list = []\n",
    "    var_list = []\n",
    "    min_list = []\n",
    "    max_list = []\n",
    "    median_list = []\n",
    "    skew_list = []\n",
    "    kuri_list = []\n",
    "    x = pd.DataFrame()\n",
    "    for i in range(len(df)):\n",
    "        mean_list.append(np.mean(train_data.iloc[i][1:].values))\n",
    "        std_list.append(np.std(train_data.iloc[i][1:].values))\n",
    "        var_list.append(np.var(train_data.iloc[i][1:].values))\n",
    "        min_list.append(np.min(train_data.iloc[i][1:].values))\n",
    "        max_list.append(np.max(train_data.iloc[i][1:].values))\n",
    "        median_list.append(np.median(train_data.iloc[i][1:].values))\n",
    "        skew_list.append(stats.skew(train_data.iloc[i][1:].values))\n",
    "        kuri_list.append(stats.kurtosis(train_data.iloc[i][1:].values))\n",
    "    x['mean'] = mean_list\n",
    "    x['std'] = std_list\n",
    "    x['var'] = var_list\n",
    "    x['min'] = min_list\n",
    "    x['max'] = max_list\n",
    "    x['median'] = median_list\n",
    "    x['skew'] = skew_list\n",
    "    x['kuri'] = kuri_list\n",
    "    return x"
   ]
  },
  {
   "cell_type": "code",
   "execution_count": null,
   "metadata": {},
   "outputs": [],
   "source": [
    "# evaluate each strategy on the dataset \n",
    "results = list() \n",
    "strategies = [str(i) for i in range(1, 16)]\n",
    "for s in strategies:\n",
    "    # define imputer \n",
    "    imputer = IterativeImputer(max_iter=int(s))\n",
    "    # fit on the dataset \n",
    "    imputer.fit(train_data)\n",
    "    # transform the dataset \n",
    "    Xtrans = imputer.transform(train_data)\n",
    "    train_data = pd.DataFrame(Xtrans)\n",
    "    x_train = get_t(train_data)\n",
    "    \n",
    "    # evaluate the model\n",
    "    clf = RandomForestClassifier()\n",
    "    cv = RepeatedStratifiedKFold(n_splits=10, n_repeats=3, random_state=1) \n",
    "    scores = cross_val_score(clf, x_train, y_train.values.ravel(), scoring='accuracy', cv=cv, n_jobs=1)\n",
    "    # store results \n",
    "    results.append(scores)\n",
    "    print('>%s %.3f (%.3f)' % (s, mean(scores), std(scores)))\n",
    "\n",
    "# plot model performance for comparison\n",
    "pyplot.boxplot(results, labels=strategies, showmeans=True) \n",
    "pyplot.show()"
   ]
  },
  {
   "cell_type": "markdown",
   "metadata": {},
   "source": [
    "#### Model-based Imputation (KNN)"
   ]
  },
  {
   "cell_type": "code",
   "execution_count": 22,
   "metadata": {},
   "outputs": [
    {
     "name": "stdout",
     "output_type": "stream",
     "text": [
      "Missing: 654\n",
      "Missing: 0\n"
     ]
    }
   ],
   "source": [
    "# knn imputation transform for the bearing dataset \n",
    "from numpy import isnan \n",
    "from pandas import read_csv \n",
    "from sklearn.impute import KNNImputer\n",
    "\n",
    "# read the data\n",
    "train_data = read_csv('data/train.csv')\n",
    "train_data.drop(train_data.columns[600:6000], axis=1, inplace=True)\n",
    "\n",
    "# split into input and output elements\n",
    "data = train_data.values\n",
    "ix = [i for i in range(data.shape[1]) if i != 600] \n",
    "X, y = data[:, ix], data[:, 600] \n",
    "# summarize total missing \n",
    "print('Missing: %d' % sum(isnan(X).flatten()))\n",
    "# define imputer \n",
    "imputer = KNNImputer() \n",
    "# fit on the dataset \n",
    "imputer.fit(X)\n",
    "# transform the dataset \n",
    "Xtrans = imputer.transform(X)\n",
    "# summarize total missing \n",
    "print('Missing: %d' % sum(isnan(Xtrans).flatten()))\n"
   ]
  },
  {
   "cell_type": "markdown",
   "metadata": {},
   "source": [
    "#### KNNImputer and Different Number of Neighbors"
   ]
  },
  {
   "cell_type": "code",
   "execution_count": 1,
   "metadata": {},
   "outputs": [],
   "source": [
    "import pandas as pd\n",
    "import numpy as np\n",
    "from numpy import mean \n",
    "from numpy import std \n",
    "from pandas import read_csv \n",
    "from sklearn.ensemble import RandomForestClassifier \n",
    "from sklearn.impute import KNNImputer \n",
    "from sklearn.model_selection import cross_val_score \n",
    "from sklearn.model_selection import RepeatedStratifiedKFold \n",
    "from sklearn.pipeline import Pipeline \n",
    "from matplotlib import pyplot\n",
    "from scipy import stats"
   ]
  },
  {
   "cell_type": "code",
   "execution_count": 7,
   "metadata": {},
   "outputs": [],
   "source": [
    "## read the data\n",
    "train_data = pd.read_csv('data/train.csv')\n",
    "train_data.drop(train_data.columns[600:6000], axis=1, inplace=True)\n",
    "y_train = pd.DataFrame()\n",
    "y_train['label'] = train_data['label']\n",
    "train_data.drop(columns='label', inplace=True)"
   ]
  },
  {
   "cell_type": "code",
   "execution_count": 3,
   "metadata": {},
   "outputs": [],
   "source": [
    "# compute time series data feature\n",
    "def get_t(df):\n",
    "    mean_list = []\n",
    "    std_list = []\n",
    "    var_list = []\n",
    "    min_list = []\n",
    "    max_list = []\n",
    "    median_list = []\n",
    "    skew_list = []\n",
    "    kuri_list = []\n",
    "    x = pd.DataFrame()\n",
    "    for i in range(len(df)):\n",
    "        mean_list.append(np.mean(train_data.iloc[i][1:].values))\n",
    "        std_list.append(np.std(train_data.iloc[i][1:].values))\n",
    "        var_list.append(np.var(train_data.iloc[i][1:].values))\n",
    "        min_list.append(np.min(train_data.iloc[i][1:].values))\n",
    "        max_list.append(np.max(train_data.iloc[i][1:].values))\n",
    "        median_list.append(np.median(train_data.iloc[i][1:].values))\n",
    "        skew_list.append(stats.skew(train_data.iloc[i][1:].values))\n",
    "        kuri_list.append(stats.kurtosis(train_data.iloc[i][1:].values))\n",
    "    x['mean'] = mean_list\n",
    "    x['std'] = std_list\n",
    "    x['var'] = var_list\n",
    "    x['min'] = min_list\n",
    "    x['max'] = max_list\n",
    "    x['median'] = median_list\n",
    "    x['skew'] = skew_list\n",
    "    x['kuri'] = kuri_list\n",
    "    return x"
   ]
  },
  {
   "cell_type": "code",
   "execution_count": 12,
   "metadata": {},
   "outputs": [
    {
     "name": "stdout",
     "output_type": "stream",
     "text": [
      ">1 0.861 (0.034)\n",
      ">3 0.856 (0.039)\n",
      ">5 0.860 (0.039)\n",
      ">7 0.859 (0.039)\n",
      ">9 0.863 (0.034)\n",
      ">15 0.861 (0.038)\n",
      ">18 0.859 (0.034)\n",
      ">21 0.861 (0.038)\n"
     ]
    },
    {
     "data": {
      "image/png": "[encoded data removed]",
      "text/plain": [
       "<Figure size 432x288 with 1 Axes>"
      ]
     },
     "metadata": {
      "needs_background": "light"
     },
     "output_type": "display_data"
    }
   ],
   "source": [
    "# evaluate each strategy on the dataset \n",
    "results = list() \n",
    "strategies = [str(i) for i in [1,3,5,7,9,15,18,21]]\n",
    "for s in strategies:\n",
    "    # define imputer \n",
    "    imputer = KNNImputer(n_neighbors=int(s))\n",
    "    # fit on the dataset \n",
    "    imputer.fit(train_data)\n",
    "    # transform the dataset \n",
    "    Xtrans = imputer.transform(train_data)\n",
    "    train_data = pd.DataFrame(Xtrans)\n",
    "    x_train = get_t(train_data)\n",
    "    \n",
    "    # evaluate the model\n",
    "    clf = RandomForestClassifier()\n",
    "    cv = RepeatedStratifiedKFold(n_splits=10, n_repeats=3, random_state=1) \n",
    "    scores = cross_val_score(clf, x_train, y_train.values.ravel(), scoring='accuracy', cv=cv, n_jobs=1)\n",
    "    # store results \n",
    "    results.append(scores)\n",
    "    print('>%s %.3f (%.3f)' % (s, mean(scores), std(scores)))\n",
    "\n",
    "# plot model performance for comparison\n",
    "pyplot.boxplot(results, labels=strategies, showmeans=True) \n",
    "pyplot.show()"
   ]
  },
  {
   "cell_type": "code",
   "execution_count": null,
   "metadata": {},
   "outputs": [],
   "source": []
  },
  {
   "cell_type": "code",
   "execution_count": null,
   "metadata": {},
   "outputs": [],
   "source": []
  },
  {
   "cell_type": "markdown",
   "metadata": {},
   "source": [
    "## 3.3.1.2\tOutlier Detection and Solutions"
   ]
  },
  {
   "cell_type": "markdown",
   "metadata": {},
   "source": [
    "### •\tTest Dataset"
   ]
  },
  {
   "cell_type": "code",
   "execution_count": 3,
   "metadata": {},
   "outputs": [],
   "source": [
    "import pandas as pd\n",
    "# from pandas.plotting import scatter_matrix\n",
    "import numpy as np\n",
    "import seaborn as sns\n",
    "import matplotlib.pyplot as plt\n",
    "%matplotlib inline"
   ]
  },
  {
   "cell_type": "code",
   "execution_count": 104,
   "metadata": {},
   "outputs": [],
   "source": [
    "# read the data\n",
    "train_data = pd.read_csv('data/train_complete.csv')\n",
    "train_data.drop(columns=['label','id'], inplace=True)\n",
    "train_data.drop(train_data.columns[5:6001], axis=1, inplace=True)"
   ]
  },
  {
   "cell_type": "markdown",
   "metadata": {},
   "source": [
    "### Univariate Outliers Detection"
   ]
  },
  {
   "cell_type": "markdown",
   "metadata": {},
   "source": [
    "#### Visualizing Outliers"
   ]
  },
  {
   "cell_type": "code",
   "execution_count": 31,
   "metadata": {},
   "outputs": [
    {
     "data": {
      "image/png": "[encoded data removed]",
      "text/plain": [
       "<Figure size 432x288 with 1 Axes>"
      ]
     },
     "metadata": {
      "needs_background": "light"
     },
     "output_type": "display_data"
    }
   ],
   "source": [
    "#Visualizing Outliers\n",
    "ax = sns.boxplot(data=train_data, orient=\"h\", palette=\"Set2\")"
   ]
  },
  {
   "cell_type": "markdown",
   "metadata": {},
   "source": [
    "#### Tukey's method"
   ]
  },
  {
   "cell_type": "code",
   "execution_count": 51,
   "metadata": {},
   "outputs": [
    {
     "name": "stdout",
     "output_type": "stream",
     "text": [
      "probable outliers: 46 \n",
      " [48, 55, 57, 78, 86, 99, 121, 144, 149, 160, 189, 204, 216, 240, 262, 291, 299, 306, 324, 345, 364, 365, 369, 409, 429, 432, 440, 469, 472, 484, 520, 541, 595, 644, 670, 694, 696, 703, 714, 723, 759, 763, 766, 767, 771, 788] \n",
      "\n",
      "possible outliers: 106 \n",
      " [0, 10, 13, 23, 27, 43, 44, 46, 48, 52, 55, 57, 58, 78, 86, 99, 110, 121, 125, 133, 144, 149, 152, 156, 160, 173, 175, 181, 189, 204, 216, 217, 235, 238, 240, 241, 244, 251, 253, 262, 270, 280, 291, 299, 306, 324, 336, 342, 345, 352, 358, 364, 365, 367, 369, 380, 388, 396, 409, 414, 422, 429, 432, 440, 441, 469, 472, 484, 490, 504, 520, 530, 541, 563, 587, 595, 599, 601, 604, 626, 644, 645, 670, 689, 690, 694, 695, 696, 703, 710, 711, 714, 716, 722, 723, 725, 754, 758, 759, 763, 766, 767, 769, 771, 775, 788]\n"
     ]
    },
    {
     "data": {
      "image/png": "[encoded data removed]",
      "text/plain": [
       "<Figure size 432x288 with 1 Axes>"
      ]
     },
     "metadata": {
      "needs_background": "light"
     },
     "output_type": "display_data"
    }
   ],
   "source": [
    "#Tukey's method\n",
    "def tukeys_method(df, variable):\n",
    "    #Takes two parameters: dataframe & variable of interest as string\n",
    "    q1 = df[variable].quantile(0.25)\n",
    "    q3 = df[variable].quantile(0.75)\n",
    "    iqr = q3-q1\n",
    "    inner_fence = 1.5*iqr\n",
    "    outer_fence = 3*iqr\n",
    "    \n",
    "    #inner fence lower and upper end\n",
    "    inner_fence_le = q1-inner_fence\n",
    "    inner_fence_ue = q3+inner_fence\n",
    "    \n",
    "    #outer fence lower and upper end\n",
    "    outer_fence_le = q1-outer_fence\n",
    "    outer_fence_ue = q3+outer_fence\n",
    "    \n",
    "    outliers_prob = []\n",
    "    outliers_poss = []\n",
    "    for index, x in enumerate(df[variable]):\n",
    "        if x <= outer_fence_le or x >= outer_fence_ue:\n",
    "            outliers_prob.append(index)\n",
    "    for index, x in enumerate(df[variable]):\n",
    "        if x <= inner_fence_le or x >= inner_fence_ue:\n",
    "            outliers_poss.append(index)\n",
    "    return outliers_prob, outliers_poss\n",
    "        \n",
    "sns.distplot(train_data['1'])\n",
    "\n",
    "probable_outliers_tm, possible_outliers_tm = tukeys_method(train_data, \"1\")\n",
    "print('probable outliers: %d' % len(probable_outliers_tm), \"\\n\", probable_outliers_tm, \"\\n\")\n",
    "print('possible outliers: %d' % len(possible_outliers_tm), \"\\n\", possible_outliers_tm)"
   ]
  },
  {
   "cell_type": "code",
   "execution_count": 50,
   "metadata": {},
   "outputs": [
    {
     "name": "stderr",
     "output_type": "stream",
     "text": [
      "/opt/anaconda3/lib/python3.8/site-packages/pandas/core/series.py:679: RuntimeWarning: divide by zero encountered in log\n",
      "  result = getattr(ufunc, method)(*inputs, **kwargs)\n",
      "/opt/anaconda3/lib/python3.8/site-packages/pandas/core/series.py:679: RuntimeWarning: invalid value encountered in log\n",
      "  result = getattr(ufunc, method)(*inputs, **kwargs)\n"
     ]
    },
    {
     "name": "stdout",
     "output_type": "stream",
     "text": [
      "probable outliers logiq: 38 \n",
      " [23, 48, 52, 55, 58, 86, 144, 175, 204, 235, 238, 240, 244, 262, 291, 299, 306, 364, 365, 367, 369, 380, 396, 432, 472, 520, 595, 601, 644, 694, 696, 716, 722, 723, 758, 759, 763, 788] \n",
      "\n",
      "possible outliers logiq: 104 \n",
      " [0, 10, 13, 19, 20, 23, 27, 43, 44, 48, 52, 55, 58, 78, 86, 99, 110, 118, 125, 133, 136, 144, 152, 156, 173, 175, 181, 189, 191, 204, 217, 223, 235, 238, 240, 241, 244, 250, 251, 253, 262, 270, 280, 291, 299, 306, 324, 336, 342, 344, 345, 358, 364, 365, 367, 369, 380, 388, 396, 403, 414, 422, 432, 433, 441, 472, 480, 484, 490, 504, 520, 530, 541, 563, 587, 595, 599, 601, 604, 606, 612, 626, 644, 645, 689, 690, 694, 695, 696, 702, 710, 716, 722, 723, 754, 758, 759, 763, 766, 767, 775, 780, 788, 789]\n"
     ]
    },
    {
     "data": {
      "image/png": "[encoded data removed]",
      "text/plain": [
       "<Figure size 432x288 with 1 Axes>"
      ]
     },
     "metadata": {
      "needs_background": "light"
     },
     "output_type": "display_data"
    }
   ],
   "source": [
    "#Transform variable to log \n",
    "log_1 = np.log(train_data[\"1\"])\n",
    "train_data[\"1_man\"] = train_data[\"1\"]+1\n",
    "log_1 = np.log(train_data['1_man'])\n",
    "train_data['1_log'] = log_1\n",
    "\n",
    "#Plot\n",
    "sns.distplot(train_data['1_log'])\n",
    "\n",
    "#Calculate probable and possible outliers using log-iq method\n",
    "probable_outliers_logiq, possible_outliers_logiq = tukeys_method(train_data, '1_log')\n",
    "print('probable outliers logiq: %d' % len(probable_outliers_logiq), \"\\n\", probable_outliers_logiq, \"\\n\")\n",
    "print('possible outliers logiq: %d' % len(possible_outliers_logiq), \"\\n\", possible_outliers_logiq)"
   ]
  },
  {
   "cell_type": "markdown",
   "metadata": {},
   "source": [
    "#### Z-Score"
   ]
  },
  {
   "cell_type": "code",
   "execution_count": 6,
   "metadata": {},
   "outputs": [],
   "source": [
    "from scipy import stats"
   ]
  },
  {
   "cell_type": "code",
   "execution_count": 56,
   "metadata": {},
   "outputs": [
    {
     "name": "stdout",
     "output_type": "stream",
     "text": [
      "outliers: 25 \n",
      " [48, 57, 121, 149, 160, 204, 216, 262, 306, 369, 409, 429, 432, 440, 469, 472, 520, 644, 670, 703, 714, 759, 763, 771, 788]\n"
     ]
    }
   ],
   "source": [
    "#Z-Score\n",
    "def z_score_method(df, variable_name):\n",
    "    #Takes two parameters: dataframe & variable of interest as string\n",
    "    columns = df.columns\n",
    "    z = np.abs(stats.zscore(df))\n",
    "    threshold = 3\n",
    "    outlier = []\n",
    "    index=0\n",
    "    for item in range(len(columns)):\n",
    "        if columns[item] == variable_name:\n",
    "            index = item\n",
    "    for i, v in enumerate(z[:, index]):\n",
    "        if v > threshold:\n",
    "            outlier.append(i)\n",
    "        else:\n",
    "            continue\n",
    "    return outlier\n",
    "\n",
    "outlier_z = z_score_method(train_data, '1')\n",
    "print('outliers: %d' % len(outlier_z), \"\\n\", outlier_z)"
   ]
  },
  {
   "cell_type": "markdown",
   "metadata": {},
   "source": [
    "#### MAD method"
   ]
  },
  {
   "cell_type": "code",
   "execution_count": 58,
   "metadata": {},
   "outputs": [
    {
     "name": "stdout",
     "output_type": "stream",
     "text": [
      "outliers: 78 \n",
      " [0, 13, 27, 43, 44, 46, 48, 55, 70, 78, 99, 105, 110, 134, 140, 144, 145, 152, 173, 185, 189, 198, 204, 217, 241, 262, 271, 280, 299, 302, 306, 324, 336, 342, 345, 352, 358, 364, 369, 388, 414, 422, 432, 441, 472, 484, 504, 510, 512, 516, 520, 531, 541, 549, 558, 587, 594, 595, 604, 626, 644, 645, 690, 694, 696, 701, 710, 711, 725, 742, 754, 759, 763, 766, 767, 769, 775, 788]\n"
     ]
    }
   ],
   "source": [
    "#MAD method\n",
    "def mad_method(df, variable_name):\n",
    "    #Takes two parameters: dataframe & variable of interest as string\n",
    "    columns = df.columns\n",
    "    med = np.median(df, axis = 0)\n",
    "    mad = np.abs(stats.median_abs_deviation(df))\n",
    "    threshold = 3\n",
    "    outlier = []\n",
    "    index=0\n",
    "    for item in range(len(columns)):\n",
    "        if columns[item] == variable_name:\n",
    "            index == item\n",
    "    for i, v in enumerate(df.loc[:,variable_name]):\n",
    "        t = (v-med[index])/mad[index]\n",
    "        if t > threshold:\n",
    "            outlier.append(i)\n",
    "        else:\n",
    "            continue\n",
    "    return outlier\n",
    "\n",
    "outlier_mad = mad_method(train_data, '1')\n",
    "print('outliers: %d' % len(outlier_mad), \"\\n\", outlier_mad)"
   ]
  },
  {
   "cell_type": "markdown",
   "metadata": {},
   "source": [
    "### Multivariate Outliers Detection"
   ]
  },
  {
   "cell_type": "markdown",
   "metadata": {},
   "source": [
    "#### Visualizing Outliers"
   ]
  },
  {
   "cell_type": "code",
   "execution_count": 59,
   "metadata": {},
   "outputs": [
    {
     "data": {
      "image/png": "[encoded data removed]",
      "text/plain": [
       "<Figure size 432x288 with 1 Axes>"
      ]
     },
     "metadata": {
      "needs_background": "light"
     },
     "output_type": "display_data"
    }
   ],
   "source": [
    "#Scatterpblot\n",
    "ax = sns.scatterplot(x=\"1\", y=\"2\", data=train_data)"
   ]
  },
  {
   "cell_type": "markdown",
   "metadata": {},
   "source": [
    "#### Mahalonibis Distance"
   ]
  },
  {
   "cell_type": "code",
   "execution_count": 20,
   "metadata": {},
   "outputs": [
    {
     "name": "stdout",
     "output_type": "stream",
     "text": [
      "bivariate_outliers: 29 \n",
      " [14, 48, 57, 99, 110, 121, 149, 160, 171, 197, 344, 380, 409, 429, 469, 472, 520, 626, 644, 645, 670, 682, 694, 703, 714, 723, 759, 763, 788] \n",
      "\n",
      "multivariate_outliers: 48 \n",
      " [0, 14, 20, 48, 55, 57, 86, 99, 110, 121, 149, 157, 160, 171, 197, 204, 216, 278, 324, 344, 364, 369, 380, 400, 409, 429, 433, 461, 463, 469, 472, 484, 520, 563, 587, 595, 644, 645, 670, 682, 694, 696, 703, 714, 759, 763, 771, 788]\n"
     ]
    }
   ],
   "source": [
    "#Mahalonibis Distance\n",
    "import scipy as sp\n",
    "from scipy.stats import chi2\n",
    "\n",
    "def mahalanobis_method(df):\n",
    "    #M-Distance\n",
    "    x_minus_mu = df - np.mean(df)\n",
    "    cov = np.cov(df.values.T)                           #Covariance\n",
    "    inv_covmat = sp.linalg.inv(cov)                     #Inverse covariance\n",
    "    left_term = np.dot(x_minus_mu, inv_covmat) \n",
    "    mahal = np.dot(left_term, x_minus_mu.T)\n",
    "    md = np.sqrt(mahal.diagonal())\n",
    "    \n",
    "    #Flag as outlier\n",
    "    outlier = []\n",
    "    #Cut-off point\n",
    "    C = np.sqrt(chi2.ppf((1-0.001), df=df.shape[1]))    #degrees of freedom = number of variables\n",
    "    for index, value in enumerate(md):\n",
    "        if value > C:\n",
    "            outlier.append(index)\n",
    "        else:\n",
    "            continue\n",
    "    return outlier, md\n",
    "\n",
    "bivariate = train_data[['1','2']]\n",
    "outliers_mahal_bi, md_bi = mahalanobis_method(df=bivariate)\n",
    "\n",
    "outliers_mahal, md = mahalanobis_method(df=train_data)\n",
    "\n",
    "print('bivariate_outliers: %d' % len(outliers_mahal_bi), \"\\n\", outliers_mahal_bi, \"\\n\")\n",
    "print('multivariate_outliers: %d' % len(outliers_mahal), \"\\n\", outliers_mahal)"
   ]
  },
  {
   "cell_type": "markdown",
   "metadata": {},
   "source": [
    "#### Minimum Covariance Determinant (MCD)"
   ]
  },
  {
   "cell_type": "code",
   "execution_count": 27,
   "metadata": {},
   "outputs": [
    {
     "name": "stdout",
     "output_type": "stream",
     "text": [
      "bivariate_outliers: 41 \n",
      " [14, 48, 55, 57, 99, 110, 121, 149, 160, 171, 173, 197, 216, 262, 306, 344, 364, 380, 409, 429, 432, 440, 469, 472, 484, 520, 563, 587, 626, 644, 645, 670, 682, 694, 703, 714, 723, 759, 763, 771, 788] \n",
      "\n",
      "multivariate_outliers: 53 \n",
      " [0, 14, 20, 48, 55, 57, 86, 99, 110, 121, 149, 157, 160, 171, 173, 197, 204, 216, 241, 278, 324, 344, 364, 369, 380, 400, 409, 429, 432, 433, 461, 463, 469, 472, 484, 520, 563, 587, 595, 626, 644, 645, 670, 682, 694, 696, 703, 714, 723, 759, 763, 771, 788]\n"
     ]
    }
   ],
   "source": [
    "#Robust Mahalonibis Distance\n",
    "from sklearn.covariance import MinCovDet\n",
    "\n",
    "def robust_mahalanobis_method(df):\n",
    "    #Minimum covariance determinant\n",
    "    rng = np.random.RandomState(0)\n",
    "    real_cov = np.cov(df.values.T)\n",
    "    X = rng.multivariate_normal(mean=np.mean(df, axis=0), cov=real_cov, size=506)\n",
    "    cov = MinCovDet(random_state=0).fit(X)\n",
    "    mcd = cov.covariance_ #robust covariance metric\n",
    "    robust_mean = cov.location_  #robust mean\n",
    "    inv_covmat = sp.linalg.inv(mcd) #inverse covariance metric\n",
    "    \n",
    "    #Robust M-Distance\n",
    "    x_minus_mu = df - robust_mean\n",
    "    left_term = np.dot(x_minus_mu, inv_covmat)\n",
    "    mahal = np.dot(left_term, x_minus_mu.T)\n",
    "    md = np.sqrt(mahal.diagonal())\n",
    "    \n",
    "    #Flag as outlier\n",
    "    outlier = []\n",
    "    C = np.sqrt(chi2.ppf((1-0.001), df=df.shape[1]))#degrees of freedom = number of variables\n",
    "    for index, value in enumerate(md):\n",
    "        if value > C:\n",
    "            outlier.append(index)\n",
    "        else:\n",
    "            continue\n",
    "    return outlier, md\n",
    "\n",
    "outliers_mahal_rob_bi, md_rb_bi = robust_mahalanobis_method(df=bivariate)\n",
    "outliers_mahal_rob, md_rb = robust_mahalanobis_method(df=train_data)\n",
    "\n",
    "print('bivariate_outliers: %d' % len(outliers_mahal_rob_bi), \"\\n\", outliers_mahal_rob_bi, \"\\n\")\n",
    "print('multivariate_outliers: %d' % len(outliers_mahal_rob), \"\\n\", outliers_mahal_rob)"
   ]
  },
  {
   "cell_type": "markdown",
   "metadata": {},
   "source": [
    "### Automatic Outlier Detection"
   ]
  },
  {
   "cell_type": "markdown",
   "metadata": {},
   "source": [
    "#### Isolation Forest (iForest)"
   ]
  },
  {
   "cell_type": "code",
   "execution_count": 36,
   "metadata": {},
   "outputs": [],
   "source": [
    "\n",
    "from sklearn.ensemble import IsolationForest"
   ]
  },
  {
   "cell_type": "code",
   "execution_count": 61,
   "metadata": {},
   "outputs": [],
   "source": [
    "\n",
    "# Returns 1 of inliers, -1 for outliers\n",
    "iforest = IsolationForest(n_estimators=100, max_samples='auto', \n",
    "                          contamination=0.05, max_features=4, \n",
    "                          bootstrap=False, n_jobs=-1, random_state=1)\n",
    "\n",
    "pred= iforest.fit_predict(train_data)\n",
    "train_data['scores']=iforest.decision_function(train_data)\n",
    "train_data['anomaly_label']=pred"
   ]
  },
  {
   "cell_type": "code",
   "execution_count": 67,
   "metadata": {},
   "outputs": [
    {
     "name": "stdout",
     "output_type": "stream",
     "text": [
      "           1         2         3         4         5    scores  anomaly_label\n",
      "0   0.563650  1.069229 -0.837759 -1.122021  0.433296 -0.029358             -1\n",
      "48  2.296021  0.057664 -2.069017 -0.777658  1.536230 -0.140959             -1\n",
      "55  0.790653  0.972580 -0.815424 -1.181309  0.879992 -0.039688             -1\n",
      "57 -1.195116  1.198365  0.753293 -1.351054  0.148222 -0.052192             -1\n",
      "86 -0.608320  0.561213  1.220700 -0.108832 -1.467195 -0.035463             -1 \n",
      " \n",
      " outliers: 40 \n",
      " [0, 48, 55, 57, 86, 99, 110, 121, 149, 160, 171, 204, 216, 240, 324, 344, 380, 400, 409, 429, 432, 440, 469, 472, 520, 563, 595, 626, 644, 645, 670, 682, 694, 703, 714, 723, 759, 763, 771, 788]\n"
     ]
    }
   ],
   "source": [
    "outliers = train_data[train_data.anomaly_label==-1]\n",
    "print(outliers.head(),\"\\n\",\"\\n\", 'outliers: %d' % len(outliers), \"\\n\", outliers.index.tolist())"
   ]
  },
  {
   "cell_type": "markdown",
   "metadata": {},
   "source": [
    "#### LOF"
   ]
  },
  {
   "cell_type": "code",
   "execution_count": 27,
   "metadata": {},
   "outputs": [],
   "source": [
    "import numpy as np\n",
    "import pandas as pd\n",
    "import matplotlib.pyplot as plt\n",
    "from sklearn.neighbors import LocalOutlierFactor"
   ]
  },
  {
   "cell_type": "code",
   "execution_count": 87,
   "metadata": {},
   "outputs": [],
   "source": [
    "# read the data\n",
    "data = pd.read_csv('data/train_complete.csv')\n",
    "data.drop(columns=['label','id'], inplace=True)\n",
    "data.drop(data.columns[2:6001], axis=1, inplace=True)"
   ]
  },
  {
   "cell_type": "code",
   "execution_count": 96,
   "metadata": {},
   "outputs": [
    {
     "name": "stdout",
     "output_type": "stream",
     "text": [
      "           1         2       LOF  anomaly_label\n",
      "4   0.162922 -0.377662  1.900779             -1\n",
      "6  -0.045076 -0.375631  1.518261             -1\n",
      "14 -0.260302  1.916735  3.241924             -1\n",
      "18  0.054822  0.340302  1.438465             -1\n",
      "47  0.240404 -0.276140  1.845152             -1 \n",
      " \n",
      " outliers: 79 \n",
      " [4, 6, 14, 18, 47, 48, 49, 57, 62, 67, 70, 74, 99, 121, 133, 134, 140, 142, 144, 148, 160, 202, 204, 208, 216, 225, 234, 238, 263, 270, 278, 291, 308, 320, 340, 344, 360, 365, 369, 380, 383, 390, 400, 401, 429, 433, 437, 440, 446, 451, 466, 469, 472, 485, 486, 497, 514, 520, 543, 549, 608, 609, 644, 654, 658, 659, 670, 671, 685, 695, 711, 714, 716, 742, 752, 771, 772, 780, 788]\n"
     ]
    }
   ],
   "source": [
    "# model specification\n",
    "clf = LocalOutlierFactor(n_neighbors = 5, contamination = 0.1)\n",
    "# model fitting\n",
    "pred = clf.fit_predict(data)\n",
    "X_scores = clf.negative_outlier_factor_\n",
    "\n",
    "data['LOF']= -X_scores\n",
    "data['anomaly_label']=pred\n",
    "outliers = data[data.anomaly_label == -1]\n",
    "print(outliers.head(),\"\\n\",\"\\n\", 'outliers: %d' % len(outliers), \"\\n\", outliers.index.tolist())"
   ]
  },
  {
   "cell_type": "code",
   "execution_count": 97,
   "metadata": {},
   "outputs": [
    {
     "name": "stdout",
     "output_type": "stream",
     "text": [
      "           1         2         3         4         5    scores  anomaly_label\n",
      "4   0.162922 -0.377662  0.014457  0.565437 -0.203369  1.743819             -1\n",
      "14 -0.260302  1.916735 -0.608320 -0.423956  0.226597  1.806394             -1\n",
      "16 -0.017705  0.072933  0.117928  0.114517  0.270779  2.192290             -1\n",
      "20 -0.317073  0.150577  1.277715  0.533275 -0.300667  2.100149             -1\n",
      "42 -0.083492  0.128973  0.000162  0.030375  0.099735  1.740905             -1 \n",
      " \n",
      " outliers: 80 \n",
      " [4, 14, 16, 20, 42, 48, 57, 79, 97, 102, 116, 132, 133, 142, 155, 157, 179, 202, 203, 219, 238, 267, 278, 285, 289, 300, 301, 311, 323, 336, 339, 352, 353, 358, 365, 378, 388, 396, 418, 429, 433, 439, 450, 454, 457, 461, 463, 464, 467, 469, 496, 503, 507, 515, 516, 520, 532, 554, 555, 568, 587, 593, 594, 598, 601, 620, 644, 659, 665, 681, 695, 696, 697, 707, 712, 765, 769, 775, 788, 791]\n"
     ]
    }
   ],
   "source": [
    "# read the data\n",
    "data = pd.read_csv('data/train_complete.csv')\n",
    "data.drop(columns=['label','id'], inplace=True)\n",
    "data.drop(data.columns[5:6001], axis=1, inplace=True)\n",
    "\n",
    "# model specification\n",
    "clf = LocalOutlierFactor(n_neighbors = 5, contamination = 0.1)\n",
    "# model fitting\n",
    "pred = clf.fit_predict(data)\n",
    "data['scores']= -clf.negative_outlier_factor_\n",
    "data['anomaly_label']=pred\n",
    "outliers = data[data.anomaly_label == -1]\n",
    "print(outliers.head(),\"\\n\",\"\\n\", 'outliers: %d' % len(outliers), \"\\n\", outliers.index.tolist())"
   ]
  },
  {
   "cell_type": "code",
   "execution_count": null,
   "metadata": {},
   "outputs": [],
   "source": []
  },
  {
   "cell_type": "markdown",
   "metadata": {},
   "source": [
    "# 3.3.2 Data Transformation"
   ]
  },
  {
   "cell_type": "markdown",
   "metadata": {},
   "source": [
    "## 3.3.2.1 Feature Scaling"
   ]
  },
  {
   "cell_type": "markdown",
   "metadata": {},
   "source": [
    "### Normalization"
   ]
  },
  {
   "cell_type": "code",
   "execution_count": 139,
   "metadata": {},
   "outputs": [],
   "source": [
    "# read the data\n",
    "data = pd.read_csv('data/train_complete.csv')\n",
    "data.drop(columns=['label','id'], inplace=True)\n",
    "data = data.loc[0:4]\n",
    "data = data.iloc[:,0:10]"
   ]
  },
  {
   "cell_type": "code",
   "execution_count": 140,
   "metadata": {},
   "outputs": [
    {
     "data": {
      "text/html": [
       "<div>\n",
       "<style scoped>\n",
       "    .dataframe tbody tr th:only-of-type {\n",
       "        vertical-align: middle;\n",
       "    }\n",
       "\n",
       "    .dataframe tbody tr th {\n",
       "        vertical-align: top;\n",
       "    }\n",
       "\n",
       "    .dataframe thead th {\n",
       "        text-align: right;\n",
       "    }\n",
       "</style>\n",
       "<table border=\"1\" class=\"dataframe\">\n",
       "  <thead>\n",
       "    <tr style=\"text-align: right;\">\n",
       "      <th></th>\n",
       "      <th>1</th>\n",
       "      <th>2</th>\n",
       "      <th>3</th>\n",
       "      <th>4</th>\n",
       "      <th>5</th>\n",
       "      <th>6</th>\n",
       "      <th>7</th>\n",
       "      <th>8</th>\n",
       "      <th>9</th>\n",
       "      <th>10</th>\n",
       "    </tr>\n",
       "  </thead>\n",
       "  <tbody>\n",
       "    <tr>\n",
       "      <th>0</th>\n",
       "      <td>0.563650</td>\n",
       "      <td>1.069229</td>\n",
       "      <td>-0.837759</td>\n",
       "      <td>-1.122021</td>\n",
       "      <td>0.433296</td>\n",
       "      <td>0.770755</td>\n",
       "      <td>-0.477153</td>\n",
       "      <td>-0.588421</td>\n",
       "      <td>0.455224</td>\n",
       "      <td>0.555122</td>\n",
       "    </tr>\n",
       "    <tr>\n",
       "      <th>1</th>\n",
       "      <td>0.061333</td>\n",
       "      <td>0.058830</td>\n",
       "      <td>0.056952</td>\n",
       "      <td>0.068634</td>\n",
       "      <td>0.073433</td>\n",
       "      <td>0.072390</td>\n",
       "      <td>0.042975</td>\n",
       "      <td>-0.007302</td>\n",
       "      <td>-0.026286</td>\n",
       "      <td>-0.006050</td>\n",
       "    </tr>\n",
       "    <tr>\n",
       "      <th>2</th>\n",
       "      <td>0.035736</td>\n",
       "      <td>0.010964</td>\n",
       "      <td>-0.164872</td>\n",
       "      <td>-0.167714</td>\n",
       "      <td>-0.125075</td>\n",
       "      <td>-0.104771</td>\n",
       "      <td>-0.016650</td>\n",
       "      <td>0.151471</td>\n",
       "      <td>0.137258</td>\n",
       "      <td>0.045076</td>\n",
       "    </tr>\n",
       "    <tr>\n",
       "      <th>3</th>\n",
       "      <td>-0.046700</td>\n",
       "      <td>0.060913</td>\n",
       "      <td>0.009340</td>\n",
       "      <td>-0.093400</td>\n",
       "      <td>-0.067817</td>\n",
       "      <td>0.022335</td>\n",
       "      <td>0.006091</td>\n",
       "      <td>-0.076751</td>\n",
       "      <td>-0.032893</td>\n",
       "      <td>0.023553</td>\n",
       "    </tr>\n",
       "    <tr>\n",
       "      <th>4</th>\n",
       "      <td>0.162922</td>\n",
       "      <td>-0.377662</td>\n",
       "      <td>0.014457</td>\n",
       "      <td>0.565437</td>\n",
       "      <td>-0.203369</td>\n",
       "      <td>-0.511508</td>\n",
       "      <td>0.410961</td>\n",
       "      <td>0.228546</td>\n",
       "      <td>-0.515244</td>\n",
       "      <td>0.013157</td>\n",
       "    </tr>\n",
       "  </tbody>\n",
       "</table>\n",
       "</div>"
      ],
      "text/plain": [
       "          1         2         3         4         5         6         7  \\\n",
       "0  0.563650  1.069229 -0.837759 -1.122021  0.433296  0.770755 -0.477153   \n",
       "1  0.061333  0.058830  0.056952  0.068634  0.073433  0.072390  0.042975   \n",
       "2  0.035736  0.010964 -0.164872 -0.167714 -0.125075 -0.104771 -0.016650   \n",
       "3 -0.046700  0.060913  0.009340 -0.093400 -0.067817  0.022335  0.006091   \n",
       "4  0.162922 -0.377662  0.014457  0.565437 -0.203369 -0.511508  0.410961   \n",
       "\n",
       "          8         9        10  \n",
       "0 -0.588421  0.455224  0.555122  \n",
       "1 -0.007302 -0.026286 -0.006050  \n",
       "2  0.151471  0.137258  0.045076  \n",
       "3 -0.076751 -0.032893  0.023553  \n",
       "4  0.228546 -0.515244  0.013157  "
      ]
     },
     "execution_count": 140,
     "metadata": {},
     "output_type": "execute_result"
    }
   ],
   "source": [
    "data"
   ]
  },
  {
   "cell_type": "code",
   "execution_count": 142,
   "metadata": {},
   "outputs": [
    {
     "data": {
      "text/html": [
       "<div>\n",
       "<style scoped>\n",
       "    .dataframe tbody tr th:only-of-type {\n",
       "        vertical-align: middle;\n",
       "    }\n",
       "\n",
       "    .dataframe tbody tr th {\n",
       "        vertical-align: top;\n",
       "    }\n",
       "\n",
       "    .dataframe thead th {\n",
       "        text-align: right;\n",
       "    }\n",
       "</style>\n",
       "<table border=\"1\" class=\"dataframe\">\n",
       "  <thead>\n",
       "    <tr style=\"text-align: right;\">\n",
       "      <th></th>\n",
       "      <th>1</th>\n",
       "      <th>2</th>\n",
       "      <th>3</th>\n",
       "      <th>4</th>\n",
       "      <th>5</th>\n",
       "      <th>6</th>\n",
       "      <th>7</th>\n",
       "      <th>8</th>\n",
       "      <th>9</th>\n",
       "      <th>10</th>\n",
       "    </tr>\n",
       "  </thead>\n",
       "  <tbody>\n",
       "    <tr>\n",
       "      <th>0</th>\n",
       "      <td>1.000000</td>\n",
       "      <td>1.000000</td>\n",
       "      <td>0.000000</td>\n",
       "      <td>0.000000</td>\n",
       "      <td>1.000000</td>\n",
       "      <td>1.000000</td>\n",
       "      <td>0.000000</td>\n",
       "      <td>0.000000</td>\n",
       "      <td>1.000000</td>\n",
       "      <td>1.000000</td>\n",
       "    </tr>\n",
       "    <tr>\n",
       "      <th>1</th>\n",
       "      <td>0.177002</td>\n",
       "      <td>0.301675</td>\n",
       "      <td>1.000000</td>\n",
       "      <td>0.705591</td>\n",
       "      <td>0.434768</td>\n",
       "      <td>0.455365</td>\n",
       "      <td>0.585654</td>\n",
       "      <td>0.711313</td>\n",
       "      <td>0.503838</td>\n",
       "      <td>0.000000</td>\n",
       "    </tr>\n",
       "    <tr>\n",
       "      <th>2</th>\n",
       "      <td>0.135063</td>\n",
       "      <td>0.268594</td>\n",
       "      <td>0.752072</td>\n",
       "      <td>0.565529</td>\n",
       "      <td>0.122975</td>\n",
       "      <td>0.317203</td>\n",
       "      <td>0.518519</td>\n",
       "      <td>0.905657</td>\n",
       "      <td>0.672358</td>\n",
       "      <td>0.091105</td>\n",
       "    </tr>\n",
       "    <tr>\n",
       "      <th>3</th>\n",
       "      <td>0.000000</td>\n",
       "      <td>0.303115</td>\n",
       "      <td>0.946785</td>\n",
       "      <td>0.609568</td>\n",
       "      <td>0.212910</td>\n",
       "      <td>0.416329</td>\n",
       "      <td>0.544124</td>\n",
       "      <td>0.626305</td>\n",
       "      <td>0.497029</td>\n",
       "      <td>0.052752</td>\n",
       "    </tr>\n",
       "    <tr>\n",
       "      <th>4</th>\n",
       "      <td>0.343446</td>\n",
       "      <td>0.000000</td>\n",
       "      <td>0.952504</td>\n",
       "      <td>1.000000</td>\n",
       "      <td>0.000000</td>\n",
       "      <td>0.000000</td>\n",
       "      <td>1.000000</td>\n",
       "      <td>1.000000</td>\n",
       "      <td>0.000000</td>\n",
       "      <td>0.034227</td>\n",
       "    </tr>\n",
       "  </tbody>\n",
       "</table>\n",
       "</div>"
      ],
      "text/plain": [
       "          1         2         3         4         5         6         7  \\\n",
       "0  1.000000  1.000000  0.000000  0.000000  1.000000  1.000000  0.000000   \n",
       "1  0.177002  0.301675  1.000000  0.705591  0.434768  0.455365  0.585654   \n",
       "2  0.135063  0.268594  0.752072  0.565529  0.122975  0.317203  0.518519   \n",
       "3  0.000000  0.303115  0.946785  0.609568  0.212910  0.416329  0.544124   \n",
       "4  0.343446  0.000000  0.952504  1.000000  0.000000  0.000000  1.000000   \n",
       "\n",
       "          8         9        10  \n",
       "0  0.000000  1.000000  1.000000  \n",
       "1  0.711313  0.503838  0.000000  \n",
       "2  0.905657  0.672358  0.091105  \n",
       "3  0.626305  0.497029  0.052752  \n",
       "4  1.000000  0.000000  0.034227  "
      ]
     },
     "execution_count": 142,
     "metadata": {},
     "output_type": "execute_result"
    }
   ],
   "source": [
    "from sklearn.preprocessing import MinMaxScaler \n",
    "\n",
    "minmax_scale = MinMaxScaler().fit_transform(data)\n",
    "\n",
    "scaled_frame = pd.DataFrame(minmax_scale,columns=data.columns)\n",
    "\n",
    "scaled_frame\n"
   ]
  },
  {
   "cell_type": "markdown",
   "metadata": {},
   "source": [
    "### Standardization"
   ]
  },
  {
   "cell_type": "code",
   "execution_count": 143,
   "metadata": {},
   "outputs": [
    {
     "data": {
      "text/html": [
       "<div>\n",
       "<style scoped>\n",
       "    .dataframe tbody tr th:only-of-type {\n",
       "        vertical-align: middle;\n",
       "    }\n",
       "\n",
       "    .dataframe tbody tr th {\n",
       "        vertical-align: top;\n",
       "    }\n",
       "\n",
       "    .dataframe thead th {\n",
       "        text-align: right;\n",
       "    }\n",
       "</style>\n",
       "<table border=\"1\" class=\"dataframe\">\n",
       "  <thead>\n",
       "    <tr style=\"text-align: right;\">\n",
       "      <th></th>\n",
       "      <th>1</th>\n",
       "      <th>2</th>\n",
       "      <th>3</th>\n",
       "      <th>4</th>\n",
       "      <th>5</th>\n",
       "      <th>6</th>\n",
       "      <th>7</th>\n",
       "      <th>8</th>\n",
       "      <th>9</th>\n",
       "      <th>10</th>\n",
       "    </tr>\n",
       "  </thead>\n",
       "  <tbody>\n",
       "    <tr>\n",
       "      <th>0</th>\n",
       "      <td>1.900487</td>\n",
       "      <td>1.880102</td>\n",
       "      <td>-1.947856</td>\n",
       "      <td>-1.770291</td>\n",
       "      <td>1.830556</td>\n",
       "      <td>1.738280</td>\n",
       "      <td>-1.666242</td>\n",
       "      <td>-1.850022</td>\n",
       "      <td>1.437858</td>\n",
       "      <td>1.994103</td>\n",
       "    </tr>\n",
       "    <tr>\n",
       "      <th>1</th>\n",
       "      <td>-0.437834</td>\n",
       "      <td>-0.219487</td>\n",
       "      <td>0.719445</td>\n",
       "      <td>0.397770</td>\n",
       "      <td>0.228547</td>\n",
       "      <td>0.054372</td>\n",
       "      <td>0.176153</td>\n",
       "      <td>0.178707</td>\n",
       "      <td>-0.095188</td>\n",
       "      <td>-0.614671</td>\n",
       "    </tr>\n",
       "    <tr>\n",
       "      <th>2</th>\n",
       "      <td>-0.556991</td>\n",
       "      <td>-0.318950</td>\n",
       "      <td>0.058147</td>\n",
       "      <td>-0.032597</td>\n",
       "      <td>-0.655153</td>\n",
       "      <td>-0.372800</td>\n",
       "      <td>-0.035048</td>\n",
       "      <td>0.732992</td>\n",
       "      <td>0.425506</td>\n",
       "      <td>-0.376998</td>\n",
       "    </tr>\n",
       "    <tr>\n",
       "      <th>3</th>\n",
       "      <td>-0.940735</td>\n",
       "      <td>-0.215158</td>\n",
       "      <td>0.577505</td>\n",
       "      <td>0.102722</td>\n",
       "      <td>-0.400255</td>\n",
       "      <td>-0.066321</td>\n",
       "      <td>0.045505</td>\n",
       "      <td>-0.063745</td>\n",
       "      <td>-0.116226</td>\n",
       "      <td>-0.477053</td>\n",
       "    </tr>\n",
       "    <tr>\n",
       "      <th>4</th>\n",
       "      <td>0.035072</td>\n",
       "      <td>-1.126507</td>\n",
       "      <td>0.592759</td>\n",
       "      <td>1.302396</td>\n",
       "      <td>-1.003695</td>\n",
       "      <td>-1.353531</td>\n",
       "      <td>1.479632</td>\n",
       "      <td>1.002068</td>\n",
       "      <td>-1.651950</td>\n",
       "      <td>-0.525381</td>\n",
       "    </tr>\n",
       "  </tbody>\n",
       "</table>\n",
       "</div>"
      ],
      "text/plain": [
       "          1         2         3         4         5         6         7  \\\n",
       "0  1.900487  1.880102 -1.947856 -1.770291  1.830556  1.738280 -1.666242   \n",
       "1 -0.437834 -0.219487  0.719445  0.397770  0.228547  0.054372  0.176153   \n",
       "2 -0.556991 -0.318950  0.058147 -0.032597 -0.655153 -0.372800 -0.035048   \n",
       "3 -0.940735 -0.215158  0.577505  0.102722 -0.400255 -0.066321  0.045505   \n",
       "4  0.035072 -1.126507  0.592759  1.302396 -1.003695 -1.353531  1.479632   \n",
       "\n",
       "          8         9        10  \n",
       "0 -1.850022  1.437858  1.994103  \n",
       "1  0.178707 -0.095188 -0.614671  \n",
       "2  0.732992  0.425506 -0.376998  \n",
       "3 -0.063745 -0.116226 -0.477053  \n",
       "4  1.002068 -1.651950 -0.525381  "
      ]
     },
     "execution_count": 143,
     "metadata": {},
     "output_type": "execute_result"
    }
   ],
   "source": [
    "from sklearn.preprocessing import StandardScaler\n",
    "\n",
    "standard_scale = StandardScaler().fit_transform(data)\n",
    "\n",
    "scaled_frame = pd.DataFrame(standard_scale,columns=data.columns)\n",
    "\n",
    "scaled_frame"
   ]
  },
  {
   "cell_type": "code",
   "execution_count": 144,
   "metadata": {},
   "outputs": [
    {
     "data": {
      "text/html": [
       "<div>\n",
       "<style scoped>\n",
       "    .dataframe tbody tr th:only-of-type {\n",
       "        vertical-align: middle;\n",
       "    }\n",
       "\n",
       "    .dataframe tbody tr th {\n",
       "        vertical-align: top;\n",
       "    }\n",
       "\n",
       "    .dataframe thead th {\n",
       "        text-align: right;\n",
       "    }\n",
       "</style>\n",
       "<table border=\"1\" class=\"dataframe\">\n",
       "  <thead>\n",
       "    <tr style=\"text-align: right;\">\n",
       "      <th></th>\n",
       "      <th>1</th>\n",
       "      <th>2</th>\n",
       "      <th>3</th>\n",
       "      <th>4</th>\n",
       "      <th>5</th>\n",
       "      <th>6</th>\n",
       "      <th>7</th>\n",
       "      <th>8</th>\n",
       "      <th>9</th>\n",
       "      <th>10</th>\n",
       "    </tr>\n",
       "  </thead>\n",
       "  <tbody>\n",
       "    <tr>\n",
       "      <th>count</th>\n",
       "      <td>5.000000e+00</td>\n",
       "      <td>5.000000e+00</td>\n",
       "      <td>5.000000</td>\n",
       "      <td>5.000000e+00</td>\n",
       "      <td>5.000000e+00</td>\n",
       "      <td>5.000000e+00</td>\n",
       "      <td>5.000000e+00</td>\n",
       "      <td>5.000000e+00</td>\n",
       "      <td>5.000000</td>\n",
       "      <td>5.000000</td>\n",
       "    </tr>\n",
       "    <tr>\n",
       "      <th>mean</th>\n",
       "      <td>8.187895e-17</td>\n",
       "      <td>4.440892e-17</td>\n",
       "      <td>0.000000</td>\n",
       "      <td>4.440892e-17</td>\n",
       "      <td>-8.881784e-17</td>\n",
       "      <td>-4.440892e-17</td>\n",
       "      <td>8.881784e-17</td>\n",
       "      <td>4.440892e-17</td>\n",
       "      <td>0.000000</td>\n",
       "      <td>0.000000</td>\n",
       "    </tr>\n",
       "    <tr>\n",
       "      <th>std</th>\n",
       "      <td>1.118034e+00</td>\n",
       "      <td>1.118034e+00</td>\n",
       "      <td>1.118034</td>\n",
       "      <td>1.118034e+00</td>\n",
       "      <td>1.118034e+00</td>\n",
       "      <td>1.118034e+00</td>\n",
       "      <td>1.118034e+00</td>\n",
       "      <td>1.118034e+00</td>\n",
       "      <td>1.118034</td>\n",
       "      <td>1.118034</td>\n",
       "    </tr>\n",
       "    <tr>\n",
       "      <th>min</th>\n",
       "      <td>-9.407351e-01</td>\n",
       "      <td>-1.126507e+00</td>\n",
       "      <td>-1.947856</td>\n",
       "      <td>-1.770291e+00</td>\n",
       "      <td>-1.003695e+00</td>\n",
       "      <td>-1.353531e+00</td>\n",
       "      <td>-1.666242e+00</td>\n",
       "      <td>-1.850022e+00</td>\n",
       "      <td>-1.651950</td>\n",
       "      <td>-0.614671</td>\n",
       "    </tr>\n",
       "    <tr>\n",
       "      <th>25%</th>\n",
       "      <td>-5.569905e-01</td>\n",
       "      <td>-3.189502e-01</td>\n",
       "      <td>0.058147</td>\n",
       "      <td>-3.259675e-02</td>\n",
       "      <td>-6.551530e-01</td>\n",
       "      <td>-3.727996e-01</td>\n",
       "      <td>-3.504802e-02</td>\n",
       "      <td>-6.374455e-02</td>\n",
       "      <td>-0.116226</td>\n",
       "      <td>-0.525381</td>\n",
       "    </tr>\n",
       "    <tr>\n",
       "      <th>50%</th>\n",
       "      <td>-4.378338e-01</td>\n",
       "      <td>-2.194874e-01</td>\n",
       "      <td>0.577505</td>\n",
       "      <td>1.027216e-01</td>\n",
       "      <td>-4.002549e-01</td>\n",
       "      <td>-6.632097e-02</td>\n",
       "      <td>4.550475e-02</td>\n",
       "      <td>1.787070e-01</td>\n",
       "      <td>-0.095188</td>\n",
       "      <td>-0.477053</td>\n",
       "    </tr>\n",
       "    <tr>\n",
       "      <th>75%</th>\n",
       "      <td>3.507250e-02</td>\n",
       "      <td>-2.151576e-01</td>\n",
       "      <td>0.592759</td>\n",
       "      <td>3.977701e-01</td>\n",
       "      <td>2.285469e-01</td>\n",
       "      <td>5.437170e-02</td>\n",
       "      <td>1.761531e-01</td>\n",
       "      <td>7.329921e-01</td>\n",
       "      <td>0.425506</td>\n",
       "      <td>-0.376998</td>\n",
       "    </tr>\n",
       "    <tr>\n",
       "      <th>max</th>\n",
       "      <td>1.900487e+00</td>\n",
       "      <td>1.880102e+00</td>\n",
       "      <td>0.719445</td>\n",
       "      <td>1.302396e+00</td>\n",
       "      <td>1.830556e+00</td>\n",
       "      <td>1.738280e+00</td>\n",
       "      <td>1.479632e+00</td>\n",
       "      <td>1.002068e+00</td>\n",
       "      <td>1.437858</td>\n",
       "      <td>1.994103</td>\n",
       "    </tr>\n",
       "  </tbody>\n",
       "</table>\n",
       "</div>"
      ],
      "text/plain": [
       "                  1             2         3             4             5  \\\n",
       "count  5.000000e+00  5.000000e+00  5.000000  5.000000e+00  5.000000e+00   \n",
       "mean   8.187895e-17  4.440892e-17  0.000000  4.440892e-17 -8.881784e-17   \n",
       "std    1.118034e+00  1.118034e+00  1.118034  1.118034e+00  1.118034e+00   \n",
       "min   -9.407351e-01 -1.126507e+00 -1.947856 -1.770291e+00 -1.003695e+00   \n",
       "25%   -5.569905e-01 -3.189502e-01  0.058147 -3.259675e-02 -6.551530e-01   \n",
       "50%   -4.378338e-01 -2.194874e-01  0.577505  1.027216e-01 -4.002549e-01   \n",
       "75%    3.507250e-02 -2.151576e-01  0.592759  3.977701e-01  2.285469e-01   \n",
       "max    1.900487e+00  1.880102e+00  0.719445  1.302396e+00  1.830556e+00   \n",
       "\n",
       "                  6             7             8         9        10  \n",
       "count  5.000000e+00  5.000000e+00  5.000000e+00  5.000000  5.000000  \n",
       "mean  -4.440892e-17  8.881784e-17  4.440892e-17  0.000000  0.000000  \n",
       "std    1.118034e+00  1.118034e+00  1.118034e+00  1.118034  1.118034  \n",
       "min   -1.353531e+00 -1.666242e+00 -1.850022e+00 -1.651950 -0.614671  \n",
       "25%   -3.727996e-01 -3.504802e-02 -6.374455e-02 -0.116226 -0.525381  \n",
       "50%   -6.632097e-02  4.550475e-02  1.787070e-01 -0.095188 -0.477053  \n",
       "75%    5.437170e-02  1.761531e-01  7.329921e-01  0.425506 -0.376998  \n",
       "max    1.738280e+00  1.479632e+00  1.002068e+00  1.437858  1.994103  "
      ]
     },
     "execution_count": 144,
     "metadata": {},
     "output_type": "execute_result"
    }
   ],
   "source": [
    "scaled_frame.describe()"
   ]
  },
  {
   "cell_type": "markdown",
   "metadata": {},
   "source": [
    "### Data Discretization"
   ]
  },
  {
   "cell_type": "markdown",
   "metadata": {},
   "source": [
    "#### Uniform Discretization"
   ]
  },
  {
   "cell_type": "code",
   "execution_count": 212,
   "metadata": {},
   "outputs": [],
   "source": [
    "# read the data\n",
    "data = pd.read_csv('data/train_complete.csv')\n",
    "data.drop(columns=['id','label'], inplace=True)\n",
    "data = data.loc[0:200]\n",
    "data = data.iloc[:,0:9]\n"
   ]
  },
  {
   "cell_type": "code",
   "execution_count": 213,
   "metadata": {},
   "outputs": [
    {
     "data": {
      "image/png": "[encoded data removed]",
      "text/plain": [
       "<Figure size 432x288 with 9 Axes>"
      ]
     },
     "metadata": {
      "needs_background": "light"
     },
     "output_type": "display_data"
    }
   ],
   "source": [
    "# histograms of the variables \n",
    "data_raw = pd.DataFrame(data) \n",
    "fig = data_raw.hist(xlabelsize=8, ylabelsize=8) \n",
    "[x.title.set_size(8) for x in fig.ravel()]\n",
    "# show the plot \n",
    "plt.show()"
   ]
  },
  {
   "cell_type": "code",
   "execution_count": 214,
   "metadata": {},
   "outputs": [
    {
     "data": {
      "image/png": "[encoded data removed]",
      "text/plain": [
       "<Figure size 432x288 with 9 Axes>"
      ]
     },
     "metadata": {
      "needs_background": "light"
     },
     "output_type": "display_data"
    }
   ],
   "source": [
    "from sklearn.preprocessing import KBinsDiscretizer\n",
    "\n",
    "# perform a uniform discretization transform of the dataset \n",
    "discretizer = KBinsDiscretizer(n_bins=10, encode='ordinal', strategy='uniform') \n",
    "data = discretizer.fit_transform(data)\n",
    "\n",
    "# convert the array back to a dataframe \n",
    "data_uniform = pd.DataFrame(data) \n",
    "# histograms of the variables \n",
    "fig = data_uniform.hist(xlabelsize=8, ylabelsize=8) \n",
    "[x.title.set_size(8) for x in fig.ravel()] \n",
    "# show the plot \n",
    "plt.show()"
   ]
  },
  {
   "cell_type": "markdown",
   "metadata": {},
   "source": [
    "#### Quantile Discretization"
   ]
  },
  {
   "cell_type": "code",
   "execution_count": 3,
   "metadata": {},
   "outputs": [],
   "source": [
    "# read the data\n",
    "data = pd.read_csv('data/train_complete.csv')\n",
    "data.drop(columns=['id','label'], inplace=True)\n",
    "data = data.loc[0:200]\n",
    "data = data.iloc[:,0:9]"
   ]
  },
  {
   "cell_type": "code",
   "execution_count": 216,
   "metadata": {},
   "outputs": [
    {
     "data": {
      "image/png": "[encoded data removed]",
      "text/plain": [
       "<Figure size 432x288 with 9 Axes>"
      ]
     },
     "metadata": {
      "needs_background": "light"
     },
     "output_type": "display_data"
    }
   ],
   "source": [
    "# histograms of the variables \n",
    "data_raw = pd.DataFrame(data) \n",
    "fig = data_raw.hist(xlabelsize=8, ylabelsize=8) \n",
    "[x.title.set_size(8) for x in fig.ravel()]\n",
    "# show the plot \n",
    "plt.show()"
   ]
  },
  {
   "cell_type": "code",
   "execution_count": 217,
   "metadata": {},
   "outputs": [
    {
     "data": {
      "image/png": "[encoded data removed]",
      "text/plain": [
       "<Figure size 432x288 with 9 Axes>"
      ]
     },
     "metadata": {
      "needs_background": "light"
     },
     "output_type": "display_data"
    }
   ],
   "source": [
    "# perform a quantile discretization transform of the dataset \n",
    "discretizer = KBinsDiscretizer(n_bins=10, encode='ordinal', strategy='quantile') \n",
    "data = discretizer.fit_transform(data)\n",
    "\n",
    "# convert the array back to a dataframe \n",
    "data_quantile = pd.DataFrame(data) \n",
    "# histograms of the variables \n",
    "fig = data_quantile.hist(xlabelsize=8, ylabelsize=8) \n",
    "[x.title.set_size(8) for x in fig.ravel()] \n",
    "# show the plot \n",
    "plt.show()"
   ]
  },
  {
   "cell_type": "markdown",
   "metadata": {},
   "source": [
    "#### K-means Discretization"
   ]
  },
  {
   "cell_type": "code",
   "execution_count": 226,
   "metadata": {},
   "outputs": [
    {
     "data": {
      "image/png": "[encoded data removed]",
      "text/plain": [
       "<Figure size 432x288 with 9 Axes>"
      ]
     },
     "metadata": {
      "needs_background": "light"
     },
     "output_type": "display_data"
    }
   ],
   "source": [
    "# perform a quantile discretization transform of the dataset \n",
    "discretizer = KBinsDiscretizer(n_bins=3, encode='ordinal', strategy='kmeans') \n",
    "data = discretizer.fit_transform(data)\n",
    "\n",
    "# convert the array back to a dataframe \n",
    "data_kmeans = pd.DataFrame(data) \n",
    "# histograms of the variables \n",
    "fig = data_kmeans.hist(xlabelsize=8, ylabelsize=8) \n",
    "[x.title.set_size(8) for x in fig.ravel()] \n",
    "# show the plot \n",
    "plt.show()"
   ]
  },
  {
   "cell_type": "code",
   "execution_count": null,
   "metadata": {},
   "outputs": [],
   "source": []
  },
  {
   "cell_type": "markdown",
   "metadata": {},
   "source": [
    "### Feature Selection"
   ]
  },
  {
   "cell_type": "markdown",
   "metadata": {},
   "source": [
    "#### Filter Methods"
   ]
  },
  {
   "cell_type": "markdown",
   "metadata": {},
   "source": [
    "##### • Pearson Correlation Coefficient"
   ]
  },
  {
   "cell_type": "code",
   "execution_count": 19,
   "metadata": {},
   "outputs": [],
   "source": [
    "## read the data\n",
    "train_data = pd.read_csv('data/train_complete.csv')\n",
    "train_data.drop(train_data.columns[50:6000], axis=1, inplace=True)\n",
    "y_train['label'] = train_data['label']\n",
    "train_data.drop(columns=['label','id'], inplace=True)\n"
   ]
  },
  {
   "cell_type": "code",
   "execution_count": 20,
   "metadata": {},
   "outputs": [
    {
     "ename": "TypeError",
     "evalue": "float() argument must be a string or a number, not 'map'",
     "output_type": "error",
     "traceback": [
      "\u001b[0;31m---------------------------------------------------------------------------\u001b[0m",
      "\u001b[0;31mTypeError\u001b[0m                                 Traceback (most recent call last)",
      "\u001b[0;32m<ipython-input-20-004b473c2167>\u001b[0m in \u001b[0;36m<module>\u001b[0;34m\u001b[0m\n\u001b[1;32m      6\u001b[0m \u001b[0;31m#第一个参数为计算评估特征是否好的函数，该函数输入特征矩阵和目标向量，输出二元组（评分，P值）的数组，数组第i项为第i个特征的评分和P值。在此定义为计算相关系数\u001b[0m\u001b[0;34m\u001b[0m\u001b[0;34m\u001b[0m\u001b[0;34m\u001b[0m\u001b[0m\n\u001b[1;32m      7\u001b[0m \u001b[0;31m#参数k为选择的特征个数\u001b[0m\u001b[0;34m\u001b[0m\u001b[0;34m\u001b[0m\u001b[0;34m\u001b[0m\u001b[0m\n\u001b[0;32m----> 8\u001b[0;31m \u001b[0mSelectKBest\u001b[0m\u001b[0;34m(\u001b[0m\u001b[0;32mlambda\u001b[0m \u001b[0mX\u001b[0m\u001b[0;34m,\u001b[0m \u001b[0mY\u001b[0m\u001b[0;34m:\u001b[0m \u001b[0mnp\u001b[0m\u001b[0;34m.\u001b[0m\u001b[0marray\u001b[0m\u001b[0;34m(\u001b[0m\u001b[0mmap\u001b[0m\u001b[0;34m(\u001b[0m\u001b[0;32mlambda\u001b[0m \u001b[0mx\u001b[0m\u001b[0;34m:\u001b[0m\u001b[0mpearsonr\u001b[0m\u001b[0;34m(\u001b[0m\u001b[0mx\u001b[0m\u001b[0;34m,\u001b[0m \u001b[0mY\u001b[0m\u001b[0;34m)\u001b[0m\u001b[0;34m,\u001b[0m \u001b[0mX\u001b[0m\u001b[0;34m.\u001b[0m\u001b[0mT\u001b[0m\u001b[0;34m)\u001b[0m\u001b[0;34m)\u001b[0m\u001b[0;34m.\u001b[0m\u001b[0mT\u001b[0m\u001b[0;34m,\u001b[0m \u001b[0mk\u001b[0m\u001b[0;34m=\u001b[0m\u001b[0;36m2\u001b[0m\u001b[0;34m)\u001b[0m\u001b[0;34m.\u001b[0m\u001b[0mfit_transform\u001b[0m\u001b[0;34m(\u001b[0m\u001b[0mtrain_data\u001b[0m\u001b[0;34m,\u001b[0m \u001b[0my_train\u001b[0m\u001b[0;34m)\u001b[0m\u001b[0;34m\u001b[0m\u001b[0;34m\u001b[0m\u001b[0m\n\u001b[0m",
      "\u001b[0;32m/opt/anaconda3/lib/python3.8/site-packages/sklearn/base.py\u001b[0m in \u001b[0;36mfit_transform\u001b[0;34m(self, X, y, **fit_params)\u001b[0m\n\u001b[1;32m    691\u001b[0m         \u001b[0;32melse\u001b[0m\u001b[0;34m:\u001b[0m\u001b[0;34m\u001b[0m\u001b[0;34m\u001b[0m\u001b[0m\n\u001b[1;32m    692\u001b[0m             \u001b[0;31m# fit method of arity 2 (supervised transformation)\u001b[0m\u001b[0;34m\u001b[0m\u001b[0;34m\u001b[0m\u001b[0;34m\u001b[0m\u001b[0m\n\u001b[0;32m--> 693\u001b[0;31m             \u001b[0;32mreturn\u001b[0m \u001b[0mself\u001b[0m\u001b[0;34m.\u001b[0m\u001b[0mfit\u001b[0m\u001b[0;34m(\u001b[0m\u001b[0mX\u001b[0m\u001b[0;34m,\u001b[0m \u001b[0my\u001b[0m\u001b[0;34m,\u001b[0m \u001b[0;34m**\u001b[0m\u001b[0mfit_params\u001b[0m\u001b[0;34m)\u001b[0m\u001b[0;34m.\u001b[0m\u001b[0mtransform\u001b[0m\u001b[0;34m(\u001b[0m\u001b[0mX\u001b[0m\u001b[0;34m)\u001b[0m\u001b[0;34m\u001b[0m\u001b[0;34m\u001b[0m\u001b[0m\n\u001b[0m\u001b[1;32m    694\u001b[0m \u001b[0;34m\u001b[0m\u001b[0m\n\u001b[1;32m    695\u001b[0m \u001b[0;34m\u001b[0m\u001b[0m\n",
      "\u001b[0;32m/opt/anaconda3/lib/python3.8/site-packages/sklearn/feature_selection/_base.py\u001b[0m in \u001b[0;36mtransform\u001b[0;34m(self, X)\u001b[0m\n\u001b[1;32m     75\u001b[0m         X = check_array(X, dtype=None, accept_sparse='csr',\n\u001b[1;32m     76\u001b[0m                         force_all_finite=not tags.get('allow_nan', True))\n\u001b[0;32m---> 77\u001b[0;31m         \u001b[0mmask\u001b[0m \u001b[0;34m=\u001b[0m \u001b[0mself\u001b[0m\u001b[0;34m.\u001b[0m\u001b[0mget_support\u001b[0m\u001b[0;34m(\u001b[0m\u001b[0;34m)\u001b[0m\u001b[0;34m\u001b[0m\u001b[0;34m\u001b[0m\u001b[0m\n\u001b[0m\u001b[1;32m     78\u001b[0m         \u001b[0;32mif\u001b[0m \u001b[0;32mnot\u001b[0m \u001b[0mmask\u001b[0m\u001b[0;34m.\u001b[0m\u001b[0many\u001b[0m\u001b[0;34m(\u001b[0m\u001b[0;34m)\u001b[0m\u001b[0;34m:\u001b[0m\u001b[0;34m\u001b[0m\u001b[0;34m\u001b[0m\u001b[0m\n\u001b[1;32m     79\u001b[0m             warn(\"No features were selected: either the data is\"\n",
      "\u001b[0;32m/opt/anaconda3/lib/python3.8/site-packages/sklearn/feature_selection/_base.py\u001b[0m in \u001b[0;36mget_support\u001b[0;34m(self, indices)\u001b[0m\n\u001b[1;32m     44\u001b[0m             \u001b[0mvalues\u001b[0m \u001b[0mare\u001b[0m \u001b[0mindices\u001b[0m \u001b[0minto\u001b[0m \u001b[0mthe\u001b[0m \u001b[0minput\u001b[0m \u001b[0mfeature\u001b[0m \u001b[0mvector\u001b[0m\u001b[0;34m.\u001b[0m\u001b[0;34m\u001b[0m\u001b[0;34m\u001b[0m\u001b[0m\n\u001b[1;32m     45\u001b[0m         \"\"\"\n\u001b[0;32m---> 46\u001b[0;31m         \u001b[0mmask\u001b[0m \u001b[0;34m=\u001b[0m \u001b[0mself\u001b[0m\u001b[0;34m.\u001b[0m\u001b[0m_get_support_mask\u001b[0m\u001b[0;34m(\u001b[0m\u001b[0;34m)\u001b[0m\u001b[0;34m\u001b[0m\u001b[0;34m\u001b[0m\u001b[0m\n\u001b[0m\u001b[1;32m     47\u001b[0m         \u001b[0;32mreturn\u001b[0m \u001b[0mmask\u001b[0m \u001b[0;32mif\u001b[0m \u001b[0;32mnot\u001b[0m \u001b[0mindices\u001b[0m \u001b[0;32melse\u001b[0m \u001b[0mnp\u001b[0m\u001b[0;34m.\u001b[0m\u001b[0mwhere\u001b[0m\u001b[0;34m(\u001b[0m\u001b[0mmask\u001b[0m\u001b[0;34m)\u001b[0m\u001b[0;34m[\u001b[0m\u001b[0;36m0\u001b[0m\u001b[0;34m]\u001b[0m\u001b[0;34m\u001b[0m\u001b[0;34m\u001b[0m\u001b[0m\n\u001b[1;32m     48\u001b[0m \u001b[0;34m\u001b[0m\u001b[0m\n",
      "\u001b[0;32m/opt/anaconda3/lib/python3.8/site-packages/sklearn/feature_selection/_univariate_selection.py\u001b[0m in \u001b[0;36m_get_support_mask\u001b[0;34m(self)\u001b[0m\n\u001b[1;32m    533\u001b[0m             \u001b[0;32mreturn\u001b[0m \u001b[0mnp\u001b[0m\u001b[0;34m.\u001b[0m\u001b[0mzeros\u001b[0m\u001b[0;34m(\u001b[0m\u001b[0mself\u001b[0m\u001b[0;34m.\u001b[0m\u001b[0mscores_\u001b[0m\u001b[0;34m.\u001b[0m\u001b[0mshape\u001b[0m\u001b[0;34m,\u001b[0m \u001b[0mdtype\u001b[0m\u001b[0;34m=\u001b[0m\u001b[0mbool\u001b[0m\u001b[0;34m)\u001b[0m\u001b[0;34m\u001b[0m\u001b[0;34m\u001b[0m\u001b[0m\n\u001b[1;32m    534\u001b[0m         \u001b[0;32melse\u001b[0m\u001b[0;34m:\u001b[0m\u001b[0;34m\u001b[0m\u001b[0;34m\u001b[0m\u001b[0m\n\u001b[0;32m--> 535\u001b[0;31m             \u001b[0mscores\u001b[0m \u001b[0;34m=\u001b[0m \u001b[0m_clean_nans\u001b[0m\u001b[0;34m(\u001b[0m\u001b[0mself\u001b[0m\u001b[0;34m.\u001b[0m\u001b[0mscores_\u001b[0m\u001b[0;34m)\u001b[0m\u001b[0;34m\u001b[0m\u001b[0;34m\u001b[0m\u001b[0m\n\u001b[0m\u001b[1;32m    536\u001b[0m             \u001b[0mmask\u001b[0m \u001b[0;34m=\u001b[0m \u001b[0mnp\u001b[0m\u001b[0;34m.\u001b[0m\u001b[0mzeros\u001b[0m\u001b[0;34m(\u001b[0m\u001b[0mscores\u001b[0m\u001b[0;34m.\u001b[0m\u001b[0mshape\u001b[0m\u001b[0;34m,\u001b[0m \u001b[0mdtype\u001b[0m\u001b[0;34m=\u001b[0m\u001b[0mbool\u001b[0m\u001b[0;34m)\u001b[0m\u001b[0;34m\u001b[0m\u001b[0;34m\u001b[0m\u001b[0m\n\u001b[1;32m    537\u001b[0m \u001b[0;34m\u001b[0m\u001b[0m\n",
      "\u001b[0;32m/opt/anaconda3/lib/python3.8/site-packages/sklearn/feature_selection/_univariate_selection.py\u001b[0m in \u001b[0;36m_clean_nans\u001b[0;34m(scores)\u001b[0m\n\u001b[1;32m     29\u001b[0m     \u001b[0;31m# XXX where should this function be called? fit? scoring functions\u001b[0m\u001b[0;34m\u001b[0m\u001b[0;34m\u001b[0m\u001b[0;34m\u001b[0m\u001b[0m\n\u001b[1;32m     30\u001b[0m     \u001b[0;31m# themselves?\u001b[0m\u001b[0;34m\u001b[0m\u001b[0;34m\u001b[0m\u001b[0;34m\u001b[0m\u001b[0m\n\u001b[0;32m---> 31\u001b[0;31m     \u001b[0mscores\u001b[0m \u001b[0;34m=\u001b[0m \u001b[0mas_float_array\u001b[0m\u001b[0;34m(\u001b[0m\u001b[0mscores\u001b[0m\u001b[0;34m,\u001b[0m \u001b[0mcopy\u001b[0m\u001b[0;34m=\u001b[0m\u001b[0;32mTrue\u001b[0m\u001b[0;34m)\u001b[0m\u001b[0;34m\u001b[0m\u001b[0;34m\u001b[0m\u001b[0m\n\u001b[0m\u001b[1;32m     32\u001b[0m     \u001b[0mscores\u001b[0m\u001b[0;34m[\u001b[0m\u001b[0mnp\u001b[0m\u001b[0;34m.\u001b[0m\u001b[0misnan\u001b[0m\u001b[0;34m(\u001b[0m\u001b[0mscores\u001b[0m\u001b[0;34m)\u001b[0m\u001b[0;34m]\u001b[0m \u001b[0;34m=\u001b[0m \u001b[0mnp\u001b[0m\u001b[0;34m.\u001b[0m\u001b[0mfinfo\u001b[0m\u001b[0;34m(\u001b[0m\u001b[0mscores\u001b[0m\u001b[0;34m.\u001b[0m\u001b[0mdtype\u001b[0m\u001b[0;34m)\u001b[0m\u001b[0;34m.\u001b[0m\u001b[0mmin\u001b[0m\u001b[0;34m\u001b[0m\u001b[0;34m\u001b[0m\u001b[0m\n\u001b[1;32m     33\u001b[0m     \u001b[0;32mreturn\u001b[0m \u001b[0mscores\u001b[0m\u001b[0;34m\u001b[0m\u001b[0;34m\u001b[0m\u001b[0m\n",
      "\u001b[0;32m/opt/anaconda3/lib/python3.8/site-packages/sklearn/utils/validation.py\u001b[0m in \u001b[0;36minner_f\u001b[0;34m(*args, **kwargs)\u001b[0m\n\u001b[1;32m     71\u001b[0m                           FutureWarning)\n\u001b[1;32m     72\u001b[0m         \u001b[0mkwargs\u001b[0m\u001b[0;34m.\u001b[0m\u001b[0mupdate\u001b[0m\u001b[0;34m(\u001b[0m\u001b[0;34m{\u001b[0m\u001b[0mk\u001b[0m\u001b[0;34m:\u001b[0m \u001b[0marg\u001b[0m \u001b[0;32mfor\u001b[0m \u001b[0mk\u001b[0m\u001b[0;34m,\u001b[0m \u001b[0marg\u001b[0m \u001b[0;32min\u001b[0m \u001b[0mzip\u001b[0m\u001b[0;34m(\u001b[0m\u001b[0msig\u001b[0m\u001b[0;34m.\u001b[0m\u001b[0mparameters\u001b[0m\u001b[0;34m,\u001b[0m \u001b[0margs\u001b[0m\u001b[0;34m)\u001b[0m\u001b[0;34m}\u001b[0m\u001b[0;34m)\u001b[0m\u001b[0;34m\u001b[0m\u001b[0;34m\u001b[0m\u001b[0m\n\u001b[0;32m---> 73\u001b[0;31m         \u001b[0;32mreturn\u001b[0m \u001b[0mf\u001b[0m\u001b[0;34m(\u001b[0m\u001b[0;34m**\u001b[0m\u001b[0mkwargs\u001b[0m\u001b[0;34m)\u001b[0m\u001b[0;34m\u001b[0m\u001b[0;34m\u001b[0m\u001b[0m\n\u001b[0m\u001b[1;32m     74\u001b[0m     \u001b[0;32mreturn\u001b[0m \u001b[0minner_f\u001b[0m\u001b[0;34m\u001b[0m\u001b[0;34m\u001b[0m\u001b[0m\n\u001b[1;32m     75\u001b[0m \u001b[0;34m\u001b[0m\u001b[0m\n",
      "\u001b[0;32m/opt/anaconda3/lib/python3.8/site-packages/sklearn/utils/validation.py\u001b[0m in \u001b[0;36mas_float_array\u001b[0;34m(X, copy, force_all_finite)\u001b[0m\n\u001b[1;32m    169\u001b[0m         \u001b[0;32melse\u001b[0m\u001b[0;34m:\u001b[0m\u001b[0;34m\u001b[0m\u001b[0;34m\u001b[0m\u001b[0m\n\u001b[1;32m    170\u001b[0m             \u001b[0mreturn_dtype\u001b[0m \u001b[0;34m=\u001b[0m \u001b[0mnp\u001b[0m\u001b[0;34m.\u001b[0m\u001b[0mfloat64\u001b[0m\u001b[0;34m\u001b[0m\u001b[0;34m\u001b[0m\u001b[0m\n\u001b[0;32m--> 171\u001b[0;31m         \u001b[0;32mreturn\u001b[0m \u001b[0mX\u001b[0m\u001b[0;34m.\u001b[0m\u001b[0mastype\u001b[0m\u001b[0;34m(\u001b[0m\u001b[0mreturn_dtype\u001b[0m\u001b[0;34m)\u001b[0m\u001b[0;34m\u001b[0m\u001b[0;34m\u001b[0m\u001b[0m\n\u001b[0m\u001b[1;32m    172\u001b[0m \u001b[0;34m\u001b[0m\u001b[0m\n\u001b[1;32m    173\u001b[0m \u001b[0;34m\u001b[0m\u001b[0m\n",
      "\u001b[0;31mTypeError\u001b[0m: float() argument must be a string or a number, not 'map'"
     ]
    }
   ],
   "source": [
    "import numpy as np\n",
    "from sklearn.feature_selection import SelectKBest\n",
    "from scipy.stats import pearsonr\n",
    "\n",
    "SelectKBest(lambda X, Y: np.array(map(lambda x:pearsonr(x, Y), X.T)).T, k=2).fit_transform(train_data, y_train)\n"
   ]
  },
  {
   "cell_type": "markdown",
   "metadata": {},
   "source": [
    "## Dimensionality Reduction"
   ]
  },
  {
   "cell_type": "markdown",
   "metadata": {},
   "source": [
    "### PCA"
   ]
  },
  {
   "cell_type": "code",
   "execution_count": 2,
   "metadata": {},
   "outputs": [
    {
     "name": "stdout",
     "output_type": "stream",
     "text": [
      ">1 0.655 (0.050)\n",
      ">2 0.657 (0.049)\n",
      ">3 0.729 (0.039)\n",
      ">4 0.728 (0.037)\n",
      ">5 0.776 (0.034)\n",
      ">6 0.780 (0.034)\n",
      ">7 0.782 (0.033)\n",
      ">8 0.821 (0.035)\n",
      ">9 0.822 (0.032)\n",
      ">10 0.829 (0.036)\n",
      ">11 0.829 (0.036)\n",
      ">12 0.829 (0.036)\n",
      ">13 0.829 (0.036)\n",
      ">14 0.829 (0.036)\n",
      ">15 0.829 (0.036)\n"
     ]
    }
   ],
   "source": [
    "# evaluate pca with logistic regression algorithm for classification \n",
    "from numpy import mean\n",
    "from numpy import std\n",
    "from sklearn.datasets import make_classification \n",
    "from sklearn.model_selection import cross_val_score \n",
    "from sklearn.model_selection import RepeatedStratifiedKFold \n",
    "from sklearn.pipeline import Pipeline \n",
    "from sklearn.decomposition import PCA \n",
    "from sklearn.linear_model import LogisticRegression\n",
    "from matplotlib import pyplot\n",
    "\n",
    "# define dataset \n",
    "def get_dataset():\n",
    "    X, y = make_classification(n_samples=1000, n_features=30, n_informative=10, n_redundant=20, random_state=2)\n",
    "    return X, y\n",
    "\n",
    "# get a list of models to evaluate \n",
    "def get_models(): \n",
    "    models = dict() \n",
    "    for i in range(1,16): \n",
    "        steps = [('pca', PCA(n_components=i)), ('m', LogisticRegression())]\n",
    "        models[str(i)] = Pipeline(steps=steps) \n",
    "    return models\n",
    "\n",
    "# evaluate a given model using cross-validation \n",
    "def evaluate_model(model, X, y):\n",
    "    cv = RepeatedStratifiedKFold(n_splits=10, n_repeats=3, random_state=1) \n",
    "    scores = cross_val_score(model, X, y, scoring='accuracy', cv=cv, n_jobs=-1)\n",
    "    return scores\n",
    "\n",
    "# define dataset \n",
    "X, y = get_dataset()\n",
    "# get the models to evaluate \n",
    "models = get_models()\n",
    "# evaluate the models and store results \n",
    "results, names = list(), list()\n",
    "for name, model in models.items(): \n",
    "    scores = evaluate_model(model, X, y) \n",
    "    results.append(scores) \n",
    "    names.append(name) \n",
    "    print('>%s %.3f (%.3f)' % (name, mean(scores), std(scores)))\n"
   ]
  },
  {
   "cell_type": "markdown",
   "metadata": {},
   "source": [
    "### LDA"
   ]
  },
  {
   "cell_type": "code",
   "execution_count": 1,
   "metadata": {},
   "outputs": [
    {
     "name": "stdout",
     "output_type": "stream",
     "text": [
      ">1 0.193 (0.031)\n",
      ">2 0.285 (0.039)\n",
      ">3 0.326 (0.040)\n",
      ">4 0.370 (0.043)\n",
      ">5 0.394 (0.052)\n",
      ">6 0.412 (0.052)\n",
      ">7 0.417 (0.047)\n",
      ">8 0.424 (0.051)\n",
      ">9 0.443 (0.043)\n"
     ]
    }
   ],
   "source": [
    "# evaluate pca with logistic regression algorithm for classification \n",
    "from numpy import mean\n",
    "from numpy import std\n",
    "from sklearn.datasets import make_classification \n",
    "from sklearn.model_selection import cross_val_score \n",
    "from sklearn.model_selection import RepeatedStratifiedKFold \n",
    "from sklearn.pipeline import Pipeline \n",
    "from sklearn.discriminant_analysis import LinearDiscriminantAnalysis \n",
    "from sklearn.naive_bayes import GaussianNB\n",
    "from matplotlib import pyplot\n",
    "\n",
    "# define dataset \n",
    "def get_dataset():\n",
    "    X, y = make_classification(n_samples=1000, n_features=30, n_informative=10, n_redundant=20, random_state=2, n_classes=10)\n",
    "    return X, y\n",
    "\n",
    "# get a list of models to evaluate \n",
    "def get_models(): \n",
    "    models = dict() \n",
    "    for i in range(1,10): \n",
    "        steps = [('lda', LinearDiscriminantAnalysis(n_components=i)), ('m', GaussianNB())] \n",
    "        models[str(i)] = Pipeline(steps=steps) \n",
    "    return models\n",
    "\n",
    "# evaluate a given model using cross-validation \n",
    "def evaluate_model(model, X, y):\n",
    "    cv = RepeatedStratifiedKFold(n_splits=10, n_repeats=3, random_state=1) \n",
    "    scores = cross_val_score(model, X, y, scoring='accuracy', cv=cv, n_jobs=-1)\n",
    "    return scores\n",
    "\n",
    "# define dataset \n",
    "X, y = get_dataset()\n",
    "# get the models to evaluate \n",
    "models = get_models()\n",
    "# evaluate the models and store results \n",
    "results, names = list(), list()\n",
    "for name, model in models.items(): \n",
    "    scores = evaluate_model(model, X, y) \n",
    "    results.append(scores) \n",
    "    names.append(name) \n",
    "    print('>%s %.3f (%.3f)' % (name, mean(scores), std(scores)))\n"
   ]
  },
  {
   "cell_type": "code",
   "execution_count": null,
   "metadata": {},
   "outputs": [],
   "source": []
  }
 ],
 "metadata": {
  "kernelspec": {
   "display_name": "Python 3",
   "language": "python",
   "name": "python3"
  },
  "language_info": {
   "codemirror_mode": {
    "name": "ipython",
    "version": 3
   },
   "file_extension": ".py",
   "mimetype": "text/x-python",
   "name": "python",
   "nbconvert_exporter": "python",
   "pygments_lexer": "ipython3",
   "version": "3.8.3"
  }
 },
 "nbformat": 4,
 "nbformat_minor": 4
}
